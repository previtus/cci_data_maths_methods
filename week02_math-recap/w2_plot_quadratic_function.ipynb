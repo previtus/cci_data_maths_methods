{
  "nbformat": 4,
  "nbformat_minor": 0,
  "metadata": {
    "colab": {
      "name": "w2_plot_quadratic_function.ipynb",
      "provenance": [],
      "collapsed_sections": []
    },
    "kernelspec": {
      "name": "python3",
      "display_name": "Python 3"
    }
  },
  "cells": [
    {
      "cell_type": "code",
      "metadata": {
        "id": "OC4pJfWWfY25",
        "colab_type": "code",
        "colab": {}
      },
      "source": [
        "a = 1\n",
        "b = -2\n",
        "c = -3\n",
        "\n",
        "from_x = -100\n",
        "to_x = 100"
      ],
      "execution_count": 0,
      "outputs": []
    },
    {
      "cell_type": "code",
      "metadata": {
        "id": "s3PwRcH5bpsv",
        "colab_type": "code",
        "colab": {}
      },
      "source": [
        "import math\n",
        "\n",
        "def quadratic_function_roots(a,b,c):\n",
        "    print(\"Function: \",a,\"* x^2 +\",b,\"* x +\",c)\n",
        "\n",
        "    number_of_roots = 2\n",
        "    x1 = None\n",
        "    x2 = None\n",
        "\n",
        "    D = b*b - 4*a*c\n",
        "\n",
        "    if D > 0:\n",
        "      x1 = (-1*b + math.sqrt(D)) / (2*a)\n",
        "      x2 = (-1*b - math.sqrt(D)) / (2*a)\n",
        "\n",
        "      print(\"Has two roots x1=\", x1, \", x2=\", x2)\n",
        "      \n",
        "    elif D == 0:\n",
        "      x1 = (-1*b) / (2*a)\n",
        "      x2 = x1\n",
        "      number_of_roots = 1\n",
        "      print(\"Has one root x1=\", x1)\n",
        "\n",
        "    elif D < 0:\n",
        "      print(\"Has no real solution for the roots!\")\n",
        "      number_of_roots = 0\n",
        "\n",
        "    print(\"---\")\n",
        "    return number_of_roots, x1, x2"
      ],
      "execution_count": 0,
      "outputs": []
    },
    {
      "cell_type": "code",
      "metadata": {
        "id": "rAAXyTVYffuD",
        "colab_type": "code",
        "colab": {}
      },
      "source": [
        "import matplotlib.pyplot as plt\n",
        "\n",
        "x_values=[]\n",
        "y_values=[]\n",
        "\n",
        "for j in range(from_x,to_x):\n",
        "  i = j / 10.0\n",
        "  tmp_y = a*i*i + b*i + c\n",
        "  x_values.append(i)\n",
        "  y_values.append(tmp_y)"
      ],
      "execution_count": 0,
      "outputs": []
    },
    {
      "cell_type": "code",
      "metadata": {
        "id": "g_XpHB6Nfe9b",
        "colab_type": "code",
        "colab": {
          "base_uri": "https://localhost:8080/",
          "height": 371
        },
        "outputId": "f376b516-e700-44a8-9bf7-ca0062b3c024"
      },
      "source": [
        "print(x_values)\n",
        "print(y_values)\n",
        "\n",
        "fig = plt.figure()\n",
        "axes=fig.add_subplot(111)\n",
        "axes.plot(x_values,y_values)\n",
        "\n",
        "number_of_roots, x1, x2 = quadratic_function_roots(a,b,c)\n",
        "axes.scatter([x1, x2],[0, 0])\n",
        "\n",
        "plt.show()\n"
      ],
      "execution_count": 46,
      "outputs": [
        {
          "output_type": "stream",
          "text": [
            "[-10.0, -9.9, -9.8, -9.7, -9.6, -9.5, -9.4, -9.3, -9.2, -9.1, -9.0, -8.9, -8.8, -8.7, -8.6, -8.5, -8.4, -8.3, -8.2, -8.1, -8.0, -7.9, -7.8, -7.7, -7.6, -7.5, -7.4, -7.3, -7.2, -7.1, -7.0, -6.9, -6.8, -6.7, -6.6, -6.5, -6.4, -6.3, -6.2, -6.1, -6.0, -5.9, -5.8, -5.7, -5.6, -5.5, -5.4, -5.3, -5.2, -5.1, -5.0, -4.9, -4.8, -4.7, -4.6, -4.5, -4.4, -4.3, -4.2, -4.1, -4.0, -3.9, -3.8, -3.7, -3.6, -3.5, -3.4, -3.3, -3.2, -3.1, -3.0, -2.9, -2.8, -2.7, -2.6, -2.5, -2.4, -2.3, -2.2, -2.1, -2.0, -1.9, -1.8, -1.7, -1.6, -1.5, -1.4, -1.3, -1.2, -1.1, -1.0, -0.9, -0.8, -0.7, -0.6, -0.5, -0.4, -0.3, -0.2, -0.1, 0.0, 0.1, 0.2, 0.3, 0.4, 0.5, 0.6, 0.7, 0.8, 0.9, 1.0, 1.1, 1.2, 1.3, 1.4, 1.5, 1.6, 1.7, 1.8, 1.9, 2.0, 2.1, 2.2, 2.3, 2.4, 2.5, 2.6, 2.7, 2.8, 2.9, 3.0, 3.1, 3.2, 3.3, 3.4, 3.5, 3.6, 3.7, 3.8, 3.9, 4.0, 4.1, 4.2, 4.3, 4.4, 4.5, 4.6, 4.7, 4.8, 4.9, 5.0, 5.1, 5.2, 5.3, 5.4, 5.5, 5.6, 5.7, 5.8, 5.9, 6.0, 6.1, 6.2, 6.3, 6.4, 6.5, 6.6, 6.7, 6.8, 6.9, 7.0, 7.1, 7.2, 7.3, 7.4, 7.5, 7.6, 7.7, 7.8, 7.9, 8.0, 8.1, 8.2, 8.3, 8.4, 8.5, 8.6, 8.7, 8.8, 8.9, 9.0, 9.1, 9.2, 9.3, 9.4, 9.5, 9.6, 9.7, 9.8, 9.9]\n",
            "[117.0, 114.81, 112.64000000000001, 110.48999999999998, 108.36, 106.25, 104.16000000000001, 102.09, 100.03999999999999, 98.00999999999999, 96.0, 94.01, 92.04000000000002, 90.08999999999997, 88.16, 86.25, 84.36, 82.49000000000001, 80.63999999999999, 78.81, 77.0, 75.21000000000001, 73.44, 71.69000000000001, 69.96, 68.25, 66.56, 64.89, 63.24000000000001, 61.61, 60.0, 58.41000000000001, 56.839999999999996, 55.29, 53.75999999999999, 52.25, 50.760000000000005, 49.29, 47.84, 46.41, 45.0, 43.61, 42.24, 40.89, 39.559999999999995, 38.25, 36.96000000000001, 35.69, 34.440000000000005, 33.209999999999994, 32.0, 30.810000000000002, 29.64, 28.490000000000002, 27.359999999999996, 26.25, 25.160000000000004, 24.089999999999996, 23.04, 22.009999999999998, 21.0, 20.009999999999998, 19.04, 18.090000000000003, 17.16, 16.25, 15.36, 14.489999999999998, 13.64, 12.810000000000002, 12.0, 11.21, 10.439999999999998, 9.690000000000001, 8.96, 8.25, 7.559999999999999, 6.889999999999999, 6.240000000000002, 5.609999999999999, 5.0, 4.41, 3.84, 3.289999999999999, 2.7600000000000007, 2.25, 1.7599999999999998, 1.29, 0.8399999999999999, 0.41000000000000014, 0.0, -0.3899999999999997, -0.7599999999999998, -1.11, -1.44, -1.75, -2.04, -2.31, -2.56, -2.79, -3.0, -3.19, -3.36, -3.51, -3.64, -3.75, -3.84, -3.91, -3.96, -3.99, -4.0, -3.99, -3.96, -3.91, -3.84, -3.75, -3.6399999999999997, -3.5100000000000002, -3.36, -3.19, -3.0, -2.79, -2.5599999999999996, -2.3100000000000005, -2.04, -1.75, -1.4399999999999995, -1.1099999999999994, -0.7600000000000007, -0.3899999999999997, 0.0, 0.41000000000000103, 0.8400000000000016, 1.2899999999999991, 1.759999999999999, 2.25, 2.7600000000000007, 3.290000000000001, 3.84, 4.409999999999999, 5.0, 5.609999999999999, 6.24, 6.889999999999999, 7.560000000000002, 8.25, 8.959999999999997, 9.690000000000003, 10.44, 11.210000000000004, 12.0, 12.809999999999999, 13.64, 14.490000000000002, 15.360000000000003, 16.25, 17.159999999999997, 18.090000000000003, 19.04, 20.01, 21.0, 22.009999999999994, 23.040000000000006, 24.089999999999996, 25.160000000000007, 26.25, 27.359999999999996, 28.490000000000002, 29.639999999999993, 30.810000000000002, 32.0, 33.209999999999994, 34.440000000000005, 35.69, 36.96000000000001, 38.25, 39.56, 40.89000000000001, 42.239999999999995, 43.61, 45.0, 46.41, 47.839999999999996, 49.29000000000001, 50.760000000000005, 52.25, 53.75999999999999, 55.289999999999985, 56.84000000000001, 58.41000000000001, 60.0, 61.609999999999985, 63.23999999999998, 64.89000000000001, 66.56000000000002, 68.25, 69.96, 71.69, 73.44000000000003, 75.21000000000001]\n",
            "Function:  1 * x^2 + -2 * x + -3\n",
            "Has two roots x1= 3.0 , x2= -1.0\n",
            "---\n"
          ],
          "name": "stdout"
        },
        {
          "output_type": "display_data",
          "data": {
            "image/png": "[encoded data removed]",
            "text/plain": [
              "<Figure size 432x288 with 1 Axes>"
            ]
          },
          "metadata": {
            "tags": []
          }
        }
      ]
    }
  ]
}