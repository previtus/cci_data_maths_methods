{
  "nbformat": 4,
  "nbformat_minor": 0,
  "metadata": {
    "colab": {
      "name": "w2_solve_quadratic_function_roots.ipynb",
      "provenance": [],
      "collapsed_sections": []
    },
    "kernelspec": {
      "name": "python3",
      "display_name": "Python 3"
    }
  },
  "cells": [
    {
      "cell_type": "code",
      "metadata": {
        "id": "1RI7EldpDznS",
        "colab_type": "code",
        "colab": {}
      },
      "source": [
        "import math\n",
        "\n",
        "def quadratic_function_roots(a,b,c):\n",
        "    print(\"Function: \",a,\"* x^2 +\",b,\"* x +\",c)\n",
        "\n",
        "    number_of_roots = 2\n",
        "    x1 = None\n",
        "    x2 = None\n",
        "\n",
        "    D = b*b - 4*a*c\n",
        "\n",
        "    if D > 0:\n",
        "      x1 = (-1*b + math.sqrt(D)) / (2*a)\n",
        "      x2 = (-1*b - math.sqrt(D)) / (2*a)\n",
        "\n",
        "      print(\"Has two roots x1=\", x1, \", x2=\", x2)\n",
        "      \n",
        "    elif D == 0:\n",
        "      x1 = (-1*b) / (2*a)\n",
        "      x2 = x1\n",
        "      number_of_roots = 1\n",
        "      print(\"Has one root x1=\", x1)\n",
        "\n",
        "    elif D < 0:\n",
        "      print(\"Has no real solution for the roots!\")\n",
        "      number_of_roots = 0\n",
        "\n",
        "    print(\"---\")\n",
        "    return number_of_roots, x1, x2"
      ],
      "execution_count": 0,
      "outputs": []
    },
    {
      "cell_type": "code",
      "metadata": {
        "id": "WyAbFFMCEv37",
        "colab_type": "code",
        "outputId": "060e241a-4586-43fd-b831-2237e0838d79",
        "colab": {
          "base_uri": "https://localhost:8080/",
          "height": 191
        }
      },
      "source": [
        "quadratic_function_roots(1,-2,-4)\n",
        "\n",
        "quadratic_function_roots(1,-2,1)\n",
        "\n",
        "quadratic_function_roots(20,-2,1)\n",
        "\n",
        "print(\"done!\")"
      ],
      "execution_count": 0,
      "outputs": [
        {
          "output_type": "stream",
          "text": [
            "Function:  1 * x^2 + -2 * x + -4\n",
            "Has two roots x1= 3.23606797749979 , x2= -1.2360679774997898\n",
            "---\n",
            "Function:  1 * x^2 + -2 * x + 1\n",
            "Has one root x1= 1.0\n",
            "---\n",
            "Function:  20 * x^2 + -2 * x + 1\n",
            "Has no real solution for the roots!\n",
            "---\n",
            "done!\n"
          ],
          "name": "stdout"
        }
      ]
    }
  ]
}