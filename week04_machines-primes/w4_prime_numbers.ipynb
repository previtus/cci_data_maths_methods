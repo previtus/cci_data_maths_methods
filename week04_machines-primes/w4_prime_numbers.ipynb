{
  "nbformat": 4,
  "nbformat_minor": 0,
  "metadata": {
    "colab": {
      "name": "w4_prime-numbers.ipynb",
      "provenance": [],
      "collapsed_sections": []
    },
    "kernelspec": {
      "name": "python3",
      "display_name": "Python 3"
    }
  },
  "cells": [
    {
      "cell_type": "code",
      "metadata": {
        "id": "dSqSpOVKeAJ4",
        "colab_type": "code",
        "colab": {}
      },
      "source": [
        "N = 30"
      ],
      "execution_count": 0,
      "outputs": []
    },
    {
      "cell_type": "code",
      "metadata": {
        "id": "h77VjeCzheV-",
        "colab_type": "code",
        "colab": {
          "base_uri": "https://localhost:8080/",
          "height": 970
        },
        "outputId": "1042dfee-6c24-4fc7-9bd1-0486d34fae35"
      },
      "source": [
        "primes_dict = {}\n",
        "for i in range(2,N):\n",
        "    primes_dict[i] = True\n",
        "\n",
        "for checked_num in range(2,N):\n",
        "    if primes_dict[checked_num]:\n",
        "        # is prime\n",
        "        print(\"when checking\", checked_num, \"...\")\n",
        "        # we need to cross out numbers from i * i to N\n",
        "        # i = 2\n",
        "        # this means we want to cross out 2*2, 2*3, ... 2*N (or until we reach N)\n",
        "\n",
        "        for multiplier in range(checked_num, N):\n",
        "            number_to_cross_out = checked_num * multiplier # 2*2, 2*3\n",
        "            print(\"number_to_cross_out\",number_to_cross_out)\n",
        "            primes_dict[number_to_cross_out] = False\n",
        "\n",
        "            if number_to_cross_out > N:\n",
        "                break\n",
        "        #print(primes_dict)\n",
        "\n",
        "#print(primes_dict)\n",
        "print(\"Prime numbers:\")\n",
        "for checked_num in range(2,N):\n",
        "    if primes_dict[checked_num]:\n",
        "        print(checked_num)"
      ],
      "execution_count": 15,
      "outputs": [
        {
          "output_type": "stream",
          "text": [
            "when checking 2 ...\n",
            "number_to_cross_out 4\n",
            "number_to_cross_out 6\n",
            "number_to_cross_out 8\n",
            "number_to_cross_out 10\n",
            "number_to_cross_out 12\n",
            "number_to_cross_out 14\n",
            "number_to_cross_out 16\n",
            "number_to_cross_out 18\n",
            "number_to_cross_out 20\n",
            "number_to_cross_out 22\n",
            "number_to_cross_out 24\n",
            "number_to_cross_out 26\n",
            "number_to_cross_out 28\n",
            "number_to_cross_out 30\n",
            "number_to_cross_out 32\n",
            "when checking 3 ...\n",
            "number_to_cross_out 9\n",
            "number_to_cross_out 12\n",
            "number_to_cross_out 15\n",
            "number_to_cross_out 18\n",
            "number_to_cross_out 21\n",
            "number_to_cross_out 24\n",
            "number_to_cross_out 27\n",
            "number_to_cross_out 30\n",
            "number_to_cross_out 33\n",
            "when checking 5 ...\n",
            "number_to_cross_out 25\n",
            "number_to_cross_out 30\n",
            "number_to_cross_out 35\n",
            "when checking 7 ...\n",
            "number_to_cross_out 49\n",
            "when checking 11 ...\n",
            "number_to_cross_out 121\n",
            "when checking 13 ...\n",
            "number_to_cross_out 169\n",
            "when checking 17 ...\n",
            "number_to_cross_out 289\n",
            "when checking 19 ...\n",
            "number_to_cross_out 361\n",
            "when checking 23 ...\n",
            "number_to_cross_out 529\n",
            "when checking 29 ...\n",
            "number_to_cross_out 841\n",
            "Prime numbers:\n",
            "2\n",
            "3\n",
            "5\n",
            "7\n",
            "11\n",
            "13\n",
            "17\n",
            "19\n",
            "23\n",
            "29\n"
          ],
          "name": "stdout"
        }
      ]
    }
  ]
}