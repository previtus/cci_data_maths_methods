{
  "nbformat": 4,
  "nbformat_minor": 0,
  "metadata": {
    "colab": {
      "name": "w07_random_functions_starter.ipynb",
      "provenance": [],
      "collapsed_sections": []
    },
    "kernelspec": {
      "name": "python3",
      "display_name": "Python 3"
    }
  },
  "cells": [
    {
      "cell_type": "markdown",
      "metadata": {
        "id": "5FPltUoNPhtU",
        "colab_type": "text"
      },
      "source": [
        "# Random functions in Python\n",
        "\n",
        "Getting one random number:"
      ]
    },
    {
      "cell_type": "code",
      "metadata": {
        "id": "_z55HId5culr",
        "colab_type": "code",
        "outputId": "d7afe4eb-8138-44b8-ab95-88989b517c13",
        "colab": {
          "base_uri": "https://localhost:8080/",
          "height": 51
        }
      },
      "source": [
        "from numpy.random import normal\n",
        "from numpy.random import uniform\n",
        "\n",
        "mean = 0\n",
        "std = 1\n",
        "sample_normal = normal(loc=mean, scale=std)\n",
        "\n",
        "a = 0\n",
        "b = 1\n",
        "sample_uniform = uniform(a,b)\n",
        "\n",
        "print(sample_normal)\n",
        "print(sample_uniform)"
      ],
      "execution_count": 0,
      "outputs": [
        {
          "output_type": "stream",
          "text": [
            "-1.1525398135003073\n",
            "0.5860791449122889\n"
          ],
          "name": "stdout"
        }
      ]
    },
    {
      "cell_type": "markdown",
      "metadata": {
        "id": "6-5kyS6uQhwR",
        "colab_type": "text"
      },
      "source": [
        "Visualization of generated numbers on a plot:"
      ]
    },
    {
      "cell_type": "code",
      "metadata": {
        "id": "Ba-kVw9gQhXm",
        "colab_type": "code",
        "outputId": "bb978e96-6304-475c-df63-ed82fc22c89c",
        "colab": {
          "base_uri": "https://localhost:8080/",
          "height": 265
        }
      },
      "source": [
        "mean = 0\n",
        "std = 1\n",
        "samples_normal = normal(size=5000, loc=mean, scale=std)\n",
        "\n",
        "from matplotlib import pyplot as plt\n",
        "plt.hist(samples_normal, bins=50)\n",
        "plt.show()"
      ],
      "execution_count": 0,
      "outputs": [
        {
          "output_type": "display_data",
          "data": {
            "image/png": "[encoded data removed]",
            "text/plain": [
              "<Figure size 432x288 with 1 Axes>"
            ]
          },
          "metadata": {
            "tags": [],
            "needs_background": "light"
          }
        }
      ]
    },
    {
      "cell_type": "code",
      "metadata": {
        "id": "zfm3G7vwQ3Ky",
        "colab_type": "code",
        "outputId": "3f89fc94-0507-4ff3-d691-00b76d4c1dfc",
        "colab": {
          "base_uri": "https://localhost:8080/",
          "height": 265
        }
      },
      "source": [
        "a = 0\n",
        "b = 1\n",
        "samples_uniform = uniform(a,b, size=5000)\n",
        "\n",
        "from matplotlib import pyplot as plt\n",
        "plt.hist(samples_uniform, bins=50)\n",
        "plt.show()"
      ],
      "execution_count": 0,
      "outputs": [
        {
          "output_type": "display_data",
          "data": {
            "image/png": "[encoded data removed]",
            "text/plain": [
              "<Figure size 432x288 with 1 Axes>"
            ]
          },
          "metadata": {
            "tags": [],
            "needs_background": "light"
          }
        }
      ]
    },
    {
      "cell_type": "markdown",
      "metadata": {
        "id": "zcA8dlhlROre",
        "colab_type": "text"
      },
      "source": [
        "# Task: use these random function to create some images"
      ]
    },
    {
      "cell_type": "code",
      "metadata": {
        "id": "6yuKQ8ooTc0r",
        "colab_type": "code",
        "outputId": "04e0bafc-9cd1-4378-a7c0-8a7cb51cb88a",
        "colab": {
          "base_uri": "https://localhost:8080/",
          "height": 517
        }
      },
      "source": [
        "import IPython.display\n",
        "import PIL.Image\n",
        "\n",
        "size = [500, 500, 3]\n",
        "empty_image = np.zeros(size)\n",
        "\n",
        "# white block\n",
        "#empty_image[60:80,60:80,:] = 255\n",
        "\n",
        "# one white pixel\n",
        "#empty_image[33,33,:] = 255\n",
        "\n",
        "# Task: can you edit the image so that there are random white pixels all over it?\n",
        "# Hint:\n",
        "# - repeated:\n",
        "#     empty_image[random_integer,random_integer,:] = 255\n",
        "\n",
        "IPython.display.display(PIL.Image.fromarray(np.uint8(empty_image)))"
      ],
      "execution_count": 0,
      "outputs": [
        {
          "output_type": "display_data",
          "data": {
            "image/png": "[encoded data removed]",
            "text/plain": [
              "<PIL.Image.Image image mode=RGB size=500x500 at 0x7F7BAE609BE0>"
            ]
          },
          "metadata": {
            "tags": []
          }
        }
      ]
    }
  ]
}