{
  "nbformat": 4,
  "nbformat_minor": 0,
  "metadata": {
    "colab": {
      "name": "w07_random_functions_starter.ipynb",
      "provenance": [],
      "collapsed_sections": []
    },
    "kernelspec": {
      "name": "python3",
      "display_name": "Python 3"
    }
  },
  "cells": [
    {
      "cell_type": "markdown",
      "metadata": {
        "id": "5FPltUoNPhtU",
        "colab_type": "text"
      },
      "source": [
        "# Random functions in Python\n",
        "\n",
        "Getting one random number:"
      ]
    },
    {
      "cell_type": "code",
      "metadata": {
        "id": "_z55HId5culr",
        "colab_type": "code",
        "outputId": "ca05e53c-4786-4a37-ec43-853da66b61c8",
        "colab": {
          "base_uri": "https://localhost:8080/",
          "height": 51
        }
      },
      "source": [
        "from numpy.random import normal\n",
        "from numpy.random import uniform\n",
        "\n",
        "mean = 0\n",
        "std = 1\n",
        "sample_normal = normal(loc=mean, scale=std)\n",
        "print(sample_normal)\n",
        "\n",
        "a = 0\n",
        "b = 1\n",
        "sample_uniform = uniform(a,b)\n",
        "print(sample_uniform)"
      ],
      "execution_count": 80,
      "outputs": [
        {
          "output_type": "stream",
          "text": [
            "1.1957954267877509\n",
            "0.12512472517481\n"
          ],
          "name": "stdout"
        }
      ]
    },
    {
      "cell_type": "code",
      "metadata": {
        "id": "oh7KdvTpX2Ei",
        "colab_type": "code",
        "colab": {
          "base_uri": "https://localhost:8080/",
          "height": 51
        },
        "outputId": "d121c08e-09ba-44a4-9815-b6acb66d11b8"
      },
      "source": [
        "# Analysis with numpy:\n",
        "sample_normal_large = normal(loc=mean, scale=std, size=100000)\n",
        "#print(len(sample_normal_large))\n",
        "\n",
        "import numpy as np\n",
        "print(\"mean = \", np.mean(sample_normal_large))\n",
        "print(\"std = \", np.std(sample_normal_large))"
      ],
      "execution_count": 83,
      "outputs": [
        {
          "output_type": "stream",
          "text": [
            "mean =  -0.0066299481596485245\n",
            "std =  0.9988839581613689\n"
          ],
          "name": "stdout"
        }
      ]
    },
    {
      "cell_type": "markdown",
      "metadata": {
        "id": "6-5kyS6uQhwR",
        "colab_type": "text"
      },
      "source": [
        "Visualization of generated numbers on a plot:"
      ]
    },
    {
      "cell_type": "code",
      "metadata": {
        "id": "Ba-kVw9gQhXm",
        "colab_type": "code",
        "outputId": "87e77fe1-a7ec-4639-849a-50e8d8588f80",
        "colab": {
          "base_uri": "https://localhost:8080/",
          "height": 265
        }
      },
      "source": [
        "mean = 0\n",
        "std = 1\n",
        "samples_normal = normal(size=5000, loc=mean, scale=std)\n",
        "\n",
        "from matplotlib import pyplot as plt\n",
        "plt.hist(samples_normal, bins=50)\n",
        "plt.show()"
      ],
      "execution_count": 84,
      "outputs": [
        {
          "output_type": "display_data",
          "data": {
            "image/png": "[encoded data removed]",
            "text/plain": [
              "<Figure size 432x288 with 1 Axes>"
            ]
          },
          "metadata": {
            "tags": [],
            "needs_background": "light"
          }
        }
      ]
    },
    {
      "cell_type": "code",
      "metadata": {
        "id": "zfm3G7vwQ3Ky",
        "colab_type": "code",
        "outputId": "180c8b2c-bf25-44b5-e4f4-380c5aa67355",
        "colab": {
          "base_uri": "https://localhost:8080/",
          "height": 265
        }
      },
      "source": [
        "a = 0\n",
        "b = 1\n",
        "samples_uniform = uniform(a,b, size=50000)\n",
        "\n",
        "from matplotlib import pyplot as plt\n",
        "plt.hist(samples_uniform, bins=50)\n",
        "plt.show()"
      ],
      "execution_count": 85,
      "outputs": [
        {
          "output_type": "display_data",
          "data": {
            "image/png": "[encoded data removed]",
            "text/plain": [
              "<Figure size 432x288 with 1 Axes>"
            ]
          },
          "metadata": {
            "tags": [],
            "needs_background": "light"
          }
        }
      ]
    },
    {
      "cell_type": "markdown",
      "metadata": {
        "id": "zcA8dlhlROre",
        "colab_type": "text"
      },
      "source": [
        "# Task: use these random function to create some images"
      ]
    },
    {
      "cell_type": "code",
      "metadata": {
        "id": "6yuKQ8ooTc0r",
        "colab_type": "code",
        "outputId": "e64fe6c6-53e7-411f-cc9e-23a8e768999b",
        "colab": {
          "base_uri": "https://localhost:8080/",
          "height": 517
        }
      },
      "source": [
        "import numpy as np\n",
        "import IPython.display\n",
        "import PIL.Image\n",
        "\n",
        "size = [500, 500, 3]\n",
        "empty_image = np.zeros(size)\n",
        "\n",
        "# white block\n",
        "#empty_image[60:80,60:80,:] = 255\n",
        "\n",
        "\n",
        "# one random pixel set to white\n",
        "# ps: choose which random funcion you are getting\n",
        "# ps2: also choose which parameters you will use for it!\n",
        "# ps3: be careful not to sample numbers outside of the image!\n",
        "random_pixel_1 = normal(loc=250, scale=std)\n",
        "random_pixel_2 = normal(loc=250, scale=std)\n",
        "empty_image[int(random_pixel_1),int(random_pixel_2),:] = 255\n",
        "\n",
        "# Task: can you edit the image so that there are random white pixels all over it?\n",
        "# Hint:\n",
        "# - repeated:\n",
        "#     empty_image[random_integer,random_integer,:] = 255\n",
        "\n",
        "IPython.display.display(PIL.Image.fromarray(np.uint8(empty_image)))"
      ],
      "execution_count": 87,
      "outputs": [
        {
          "output_type": "display_data",
          "data": {
            "image/png": "[encoded data removed]",
            "text/plain": [
              "<PIL.Image.Image image mode=RGB size=500x500 at 0x7FFB6C1230B8>"
            ]
          },
          "metadata": {
            "tags": []
          }
        }
      ]
    }
  ]
}