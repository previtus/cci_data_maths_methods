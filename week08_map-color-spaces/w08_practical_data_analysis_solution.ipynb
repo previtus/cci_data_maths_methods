{
  "nbformat": 4,
  "nbformat_minor": 0,
  "metadata": {
    "colab": {
      "name": "w08_practical_data_analysis_solution.ipynb",
      "provenance": [],
      "collapsed_sections": []
    },
    "kernelspec": {
      "name": "python3",
      "display_name": "Python 3"
    }
  },
  "cells": [
    {
      "cell_type": "markdown",
      "metadata": {
        "id": "Pag7HeJNtAGW",
        "colab_type": "text"
      },
      "source": [
        "# Data analysis"
      ]
    },
    {
      "cell_type": "markdown",
      "metadata": {
        "id": "adyczaH6tCwt",
        "colab_type": "text"
      },
      "source": [
        "## Loading data:"
      ]
    },
    {
      "cell_type": "code",
      "metadata": {
        "id": "GZi2OxYVY_9a",
        "colab_type": "code",
        "outputId": "e86727b2-c0a7-4fd0-967e-41ef52699305",
        "colab": {
          "base_uri": "https://localhost:8080/",
          "height": 52
        }
      },
      "source": [
        "import numpy as np\n",
        "#data_x = np.loadtxt(\"data_x.txt\")\n",
        "#data_y = np.loadtxt(\"data_y.txt\")\n",
        "\n",
        "data_x = [ 50.0, 150.0, 250.0, 350.0, 450.0, 550.0, 650.0, 750.0, 850.0, 950.0]\n",
        "data_y = [\n",
        "          [0.743, 0.805, 0.874, 0.817, 0.85 , 0.844, 0.84 , 0.814, 0.854, 0.847],\n",
        "          [0.782, 0.684, 0.863, 0.881, 0.904, 0.924, 0.91 , 0.924, 0.933, 0.938],\n",
        "          [0.807, 0.821, 0.859, 0.843, 0.858, 0.834, 0.846, 0.87 , 0.904, 0.847],\n",
        "          [0.639, 0.747, 0.787, 0.842, 0.866, 0.805, 0.839, 0.889, 0.888, 0.891],\n",
        "          [0.77 , 0.735, 0.835, 0.776, 0.846, 0.802, 0.853, 0.827, 0.855, 0.869],\n",
        "          [0.803, 0.791, 0.875, 0.798, 0.89 , 0.864, 0.892, 0.766, 0.89 , 0.892],\n",
        "          [0.802, 0.809, 0.903, 0.874, 0.89 , 0.916, 0.905, 0.904, 0.923, 0.877],\n",
        "          [0.732, 0.85 , 0.822, 0.883, 0.885, 0.875, 0.886, 0.89 , 0.887, 0.883],\n",
        "          [0.771, 0.737, 0.836, 0.874, 0.891, 0.882, 0.871, 0.905, 0.883, 0.904],\n",
        "          [0.808, 0.824, 0.82 , 0.859, 0.897, 0.888, 0.903, 0.899, 0.881, 0.887]\n",
        "        ]\n",
        "\n",
        "data_x = np.asarray(data_x)\n",
        "data_y = np.asarray(data_y)\n",
        "print(\"data_x\", data_x.shape)\n",
        "print(\"data_y\", data_y.shape)"
      ],
      "execution_count": 1,
      "outputs": [
        {
          "output_type": "stream",
          "text": [
            "data_x (10,)\n",
            "data_y (10, 10)\n"
          ],
          "name": "stdout"
        }
      ]
    },
    {
      "cell_type": "code",
      "metadata": {
        "id": "uD4GOaxHYMuA",
        "colab_type": "code",
        "outputId": "2174c17e-779c-45f8-8557-378e9bff74bb",
        "colab": {
          "base_uri": "https://localhost:8080/",
          "height": 210
        }
      },
      "source": [
        "print(\"data_x\", data_x)\n",
        "print(\"data_y\", data_y)"
      ],
      "execution_count": 2,
      "outputs": [
        {
          "output_type": "stream",
          "text": [
            "data_x [ 50. 150. 250. 350. 450. 550. 650. 750. 850. 950.]\n",
            "data_y [[0.743 0.805 0.874 0.817 0.85  0.844 0.84  0.814 0.854 0.847]\n",
            " [0.782 0.684 0.863 0.881 0.904 0.924 0.91  0.924 0.933 0.938]\n",
            " [0.807 0.821 0.859 0.843 0.858 0.834 0.846 0.87  0.904 0.847]\n",
            " [0.639 0.747 0.787 0.842 0.866 0.805 0.839 0.889 0.888 0.891]\n",
            " [0.77  0.735 0.835 0.776 0.846 0.802 0.853 0.827 0.855 0.869]\n",
            " [0.803 0.791 0.875 0.798 0.89  0.864 0.892 0.766 0.89  0.892]\n",
            " [0.802 0.809 0.903 0.874 0.89  0.916 0.905 0.904 0.923 0.877]\n",
            " [0.732 0.85  0.822 0.883 0.885 0.875 0.886 0.89  0.887 0.883]\n",
            " [0.771 0.737 0.836 0.874 0.891 0.882 0.871 0.905 0.883 0.904]\n",
            " [0.808 0.824 0.82  0.859 0.897 0.888 0.903 0.899 0.881 0.887]]\n"
          ],
          "name": "stdout"
        }
      ]
    },
    {
      "cell_type": "code",
      "metadata": {
        "id": "XAWVzQrNYTD-",
        "colab_type": "code",
        "outputId": "a477fb39-1eee-445c-d0b6-0a664288eab4",
        "colab": {
          "base_uri": "https://localhost:8080/",
          "height": 267
        }
      },
      "source": [
        "# Basic plot\n",
        "from matplotlib import pyplot as plt\n",
        "for one_experiment_run in data_y:\n",
        "    plt.scatter(data_x, one_experiment_run, color=\"black\")\n",
        "plt.show()"
      ],
      "execution_count": 20,
      "outputs": [
        {
          "output_type": "display_data",
          "data": {
            "image/png": "[encoded data removed]",
            "text/plain": [
              "<Figure size 432x288 with 1 Axes>"
            ]
          },
          "metadata": {
            "tags": [],
            "needs_background": "light"
          }
        }
      ]
    },
    {
      "cell_type": "code",
      "metadata": {
        "id": "77ATikdQYr7v",
        "colab_type": "code",
        "colab": {}
      },
      "source": [
        "# We would like to:\n",
        "# A.) show these compressed into more legible plot using averages and standard deviation\n",
        "\n",
        "# B.) use the box plot to explore each \"column\" independently\n"
      ],
      "execution_count": 0,
      "outputs": []
    },
    {
      "cell_type": "markdown",
      "metadata": {
        "id": "QACtQXkktHws",
        "colab_type": "text"
      },
      "source": [
        "## Task 1: plot averages and standard deviations"
      ]
    },
    {
      "cell_type": "code",
      "metadata": {
        "id": "6E2dX-7AtHO5",
        "colab_type": "code",
        "colab": {}
      },
      "source": [
        "# A.) show these compressed into more legible plot using averages and standard deviation\n"
      ],
      "execution_count": 0,
      "outputs": []
    },
    {
      "cell_type": "code",
      "metadata": {
        "id": "AaIqd4YkDEIU",
        "colab_type": "code",
        "colab": {}
      },
      "source": [
        "#print(data_y[0])\n",
        "#print(data_y[:,0])"
      ],
      "execution_count": 0,
      "outputs": []
    },
    {
      "cell_type": "code",
      "metadata": {
        "id": "oO8OERpCtP3N",
        "colab_type": "code",
        "outputId": "0b6f0e1e-cd95-4b37-d106-ebe4b51b4494",
        "colab": {
          "base_uri": "https://localhost:8080/",
          "height": 269
        }
      },
      "source": [
        "averages = []\n",
        "data_froms = []\n",
        "data_tos = []\n",
        "\n",
        "for i in range(len(data_y[0])):\n",
        "    #column = data_y[:,i]\n",
        "    column = []\n",
        "    for j in range(len(data_y)):\n",
        "        column.append(data_y[j, i])\n",
        "\n",
        "    #print(column)\n",
        "\n",
        "    m = np.mean(column)\n",
        "    #print(\"mean=\",m)\n",
        "\n",
        "    s = np.std(column)\n",
        "    #print(\"standard dev.=\",s)\n",
        "\n",
        "    data_from = m - s\n",
        "    data_to = m + s\n",
        "\n",
        "    #print(\"Data is around\", m, \"in region\", data_from, \"to\", data_to)\n",
        "\n",
        "    averages.append(m)\n",
        "    data_froms.append(data_from)\n",
        "    data_tos.append(data_to)\n",
        "\n",
        "#print(averages)\n",
        "#print(data_froms)\n",
        "#print(data_tos)\n",
        "\n",
        "\n",
        "# debug\n",
        "#for one_experiment_run in data_y:\n",
        "#    plt.scatter(data_x, one_experiment_run, color=\"gray\")\n",
        "# check data ^^^ \n",
        "plt.plot(data_x, averages, color=\"blue\")\n",
        "plt.plot(data_x, data_froms, color=\"orange\")\n",
        "plt.plot(data_x, data_tos, color=\"orange\")\n",
        "plt.ylim(0.5, 1.0)\n",
        "plt.show()"
      ],
      "execution_count": 24,
      "outputs": [
        {
          "output_type": "display_data",
          "data": {
            "image/png": "[encoded data removed]",
            "text/plain": [
              "<Figure size 432x288 with 1 Axes>"
            ]
          },
          "metadata": {
            "tags": [],
            "needs_background": "light"
          }
        }
      ]
    },
    {
      "cell_type": "markdown",
      "metadata": {
        "id": "DiGVdG67tQiI",
        "colab_type": "text"
      },
      "source": [
        "## Task 2: use a box plot"
      ]
    },
    {
      "cell_type": "code",
      "metadata": {
        "id": "2KZFZG6gtS57",
        "colab_type": "code",
        "colab": {}
      },
      "source": [
        "# Short example using matplotlib\n",
        "\n",
        "import matplotlib.pyplot as plt\n",
        "data = [-0.05, 0, 0, 0.5, 1, 1, 2]\n",
        "plt.boxplot(data)\n",
        "plt.show()"
      ],
      "execution_count": 0,
      "outputs": []
    },
    {
      "cell_type": "code",
      "metadata": {
        "id": "d-K6dO43t0L1",
        "colab_type": "code",
        "outputId": "a5f483bc-0e3b-48dc-ea93-c185fc173f58",
        "colab": {
          "base_uri": "https://localhost:8080/",
          "height": 269
        }
      },
      "source": [
        "# Task:\n",
        "# B.) use the box plot to explore each \"column\" independently\n",
        "\n",
        "column1 = data_y[:,0]\n",
        "column9 = data_y[:,8]\n",
        "\n",
        "plt.boxplot([column1, column9])\n",
        "plt.ylim(0.5,1.0)\n",
        "plt.show()"
      ],
      "execution_count": 39,
      "outputs": [
        {
          "output_type": "display_data",
          "data": {
            "image/png": "[encoded data removed]",
            "text/plain": [
              "<Figure size 432x288 with 1 Axes>"
            ]
          },
          "metadata": {
            "tags": [],
            "needs_background": "light"
          }
        }
      ]
    }
  ]
}