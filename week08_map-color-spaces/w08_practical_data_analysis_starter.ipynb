{
  "nbformat": 4,
  "nbformat_minor": 0,
  "metadata": {
    "colab": {
      "name": "w08_practical_data_analysis.ipynb",
      "provenance": [],
      "collapsed_sections": []
    },
    "kernelspec": {
      "name": "python3",
      "display_name": "Python 3"
    }
  },
  "cells": [
    {
      "cell_type": "markdown",
      "metadata": {
        "id": "Pag7HeJNtAGW",
        "colab_type": "text"
      },
      "source": [
        "# Data analysis"
      ]
    },
    {
      "cell_type": "markdown",
      "metadata": {
        "id": "adyczaH6tCwt",
        "colab_type": "text"
      },
      "source": [
        "## Loading data:"
      ]
    },
    {
      "cell_type": "code",
      "metadata": {
        "id": "GZi2OxYVY_9a",
        "colab_type": "code",
        "outputId": "87a48f15-8071-455a-b867-e6624c0a5753",
        "colab": {
          "base_uri": "https://localhost:8080/",
          "height": 51
        }
      },
      "source": [
        "import numpy as np\n",
        "#data_x = np.loadtxt(\"data_x.txt\")\n",
        "#data_y = np.loadtxt(\"data_y.txt\")\n",
        "\n",
        "data_x = [ 50.0, 150.0, 250.0, 350.0, 450.0, 550.0, 650.0, 750.0, 850.0, 950.0]\n",
        "data_y = [\n",
        "          [0.743, 0.805, 0.874, 0.817, 0.85 , 0.844, 0.84 , 0.814, 0.854, 0.847],\n",
        "          [0.782, 0.684, 0.863, 0.881, 0.904, 0.924, 0.91 , 0.924, 0.933, 0.938],\n",
        "          [0.807, 0.821, 0.859, 0.843, 0.858, 0.834, 0.846, 0.87 , 0.904, 0.847],\n",
        "          [0.639, 0.747, 0.787, 0.842, 0.866, 0.805, 0.839, 0.889, 0.888, 0.891],\n",
        "          [0.77 , 0.735, 0.835, 0.776, 0.846, 0.802, 0.853, 0.827, 0.855, 0.869],\n",
        "          [0.803, 0.791, 0.875, 0.798, 0.89 , 0.864, 0.892, 0.766, 0.89 , 0.892],\n",
        "          [0.802, 0.809, 0.903, 0.874, 0.89 , 0.916, 0.905, 0.904, 0.923, 0.877],\n",
        "          [0.732, 0.85 , 0.822, 0.883, 0.885, 0.875, 0.886, 0.89 , 0.887, 0.883],\n",
        "          [0.771, 0.737, 0.836, 0.874, 0.891, 0.882, 0.871, 0.905, 0.883, 0.904],\n",
        "          [0.808, 0.824, 0.82 , 0.859, 0.897, 0.888, 0.903, 0.899, 0.881, 0.887]\n",
        "        ]\n",
        "\n",
        "data_x = np.asarray(data_x)\n",
        "data_y = np.asarray(data_y)\n",
        "print(\"data_x\", data_x.shape)\n",
        "print(\"data_y\", data_y.shape)"
      ],
      "execution_count": 8,
      "outputs": [
        {
          "output_type": "stream",
          "text": [
            "data_x (10,)\n",
            "data_y (10, 10)\n"
          ],
          "name": "stdout"
        }
      ]
    },
    {
      "cell_type": "code",
      "metadata": {
        "id": "uD4GOaxHYMuA",
        "colab_type": "code",
        "outputId": "f655fc39-70da-4491-b5e6-aa61bc4a77d1",
        "colab": {
          "base_uri": "https://localhost:8080/",
          "height": 204
        }
      },
      "source": [
        "print(\"data_x\", data_x)\n",
        "print(\"data_y\", data_y)"
      ],
      "execution_count": 0,
      "outputs": [
        {
          "output_type": "stream",
          "text": [
            "data_x [ 50. 150. 250. 350. 450. 550. 650. 750. 850. 950.]\n",
            "data_y [[0.743 0.805 0.874 0.817 0.85  0.844 0.84  0.814 0.854 0.847]\n",
            " [0.782 0.684 0.863 0.881 0.904 0.924 0.91  0.924 0.933 0.938]\n",
            " [0.807 0.821 0.859 0.843 0.858 0.834 0.846 0.87  0.904 0.847]\n",
            " [0.639 0.747 0.787 0.842 0.866 0.805 0.839 0.889 0.888 0.891]\n",
            " [0.77  0.735 0.835 0.776 0.846 0.802 0.853 0.827 0.855 0.869]\n",
            " [0.803 0.791 0.875 0.798 0.89  0.864 0.892 0.766 0.89  0.892]\n",
            " [0.802 0.809 0.903 0.874 0.89  0.916 0.905 0.904 0.923 0.877]\n",
            " [0.732 0.85  0.822 0.883 0.885 0.875 0.886 0.89  0.887 0.883]\n",
            " [0.771 0.737 0.836 0.874 0.891 0.882 0.871 0.905 0.883 0.904]\n",
            " [0.808 0.824 0.82  0.859 0.897 0.888 0.903 0.899 0.881 0.887]]\n"
          ],
          "name": "stdout"
        }
      ]
    },
    {
      "cell_type": "code",
      "metadata": {
        "id": "XAWVzQrNYTD-",
        "colab_type": "code",
        "outputId": "680ac942-76ce-4f13-e6b9-762274044c33",
        "colab": {
          "base_uri": "https://localhost:8080/",
          "height": 267
        }
      },
      "source": [
        "# Basic plot\n",
        "from matplotlib import pyplot as plt\n",
        "for one_experiment_run in data_y:\n",
        "    plt.scatter(data_x, one_experiment_run, color=\"black\")\n",
        "plt.show()"
      ],
      "execution_count": 0,
      "outputs": [
        {
          "output_type": "display_data",
          "data": {
            "image/png": "[encoded data removed]",
            "text/plain": [
              "<Figure size 432x288 with 1 Axes>"
            ]
          },
          "metadata": {
            "tags": [],
            "needs_background": "light"
          }
        }
      ]
    },
    {
      "cell_type": "code",
      "metadata": {
        "id": "77ATikdQYr7v",
        "colab_type": "code",
        "colab": {}
      },
      "source": [
        "# We would like to:\n",
        "# A.) show these compressed into more legible plot using averages and standard deviation\n",
        "\n",
        "# B.) use the box plot to explore each \"column\" independently\n"
      ],
      "execution_count": 0,
      "outputs": []
    },
    {
      "cell_type": "markdown",
      "metadata": {
        "id": "QACtQXkktHws",
        "colab_type": "text"
      },
      "source": [
        "## Task 1: plot averages and standard deviations"
      ]
    },
    {
      "cell_type": "code",
      "metadata": {
        "id": "6E2dX-7AtHO5",
        "colab_type": "code",
        "colab": {}
      },
      "source": [
        "# A.) show these compressed into more legible plot using averages and standard deviation\n"
      ],
      "execution_count": 0,
      "outputs": []
    },
    {
      "cell_type": "code",
      "metadata": {
        "id": "oO8OERpCtP3N",
        "colab_type": "code",
        "colab": {
          "base_uri": "https://localhost:8080/",
          "height": 34
        },
        "outputId": "eed786f1-c0a2-4ecb-9f5a-c4b98781868c"
      },
      "source": [
        "first_column = data_y[:,0]\n",
        "print(first_column)\n"
      ],
      "execution_count": 12,
      "outputs": [
        {
          "output_type": "stream",
          "text": [
            "[0.743 0.782 0.807 0.639 0.77  0.803 0.802 0.732 0.771 0.808]\n"
          ],
          "name": "stdout"
        }
      ]
    },
    {
      "cell_type": "markdown",
      "metadata": {
        "id": "DiGVdG67tQiI",
        "colab_type": "text"
      },
      "source": [
        "## Task 2: use a box plot"
      ]
    },
    {
      "cell_type": "code",
      "metadata": {
        "id": "2KZFZG6gtS57",
        "colab_type": "code",
        "colab": {
          "base_uri": "https://localhost:8080/",
          "height": 265
        },
        "outputId": "375085c3-da08-40e4-e037-037b45544f75"
      },
      "source": [
        "# Short example using matplotlib\n",
        "\n",
        "import matplotlib.pyplot as plt\n",
        "data = [-0.05, 0, 0, 0.5, 1, 1, 2]\n",
        "plt.boxplot(data)\n",
        "plt.show()"
      ],
      "execution_count": 6,
      "outputs": [
        {
          "output_type": "display_data",
          "data": {
            "image/png": "[encoded data removed]",
            "text/plain": [
              "<Figure size 432x288 with 1 Axes>"
            ]
          },
          "metadata": {
            "tags": [],
            "needs_background": "light"
          }
        }
      ]
    },
    {
      "cell_type": "code",
      "metadata": {
        "id": "d-K6dO43t0L1",
        "colab_type": "code",
        "colab": {
          "base_uri": "https://localhost:8080/",
          "height": 34
        },
        "outputId": "ddc2e721-8408-479a-bd95-4101bbc169d5"
      },
      "source": [
        "# Task:\n",
        "# B.) use the box plot to explore each \"column\" independently\n",
        "\n",
        "first_column = data_y[:,0]\n",
        "print(first_column)"
      ],
      "execution_count": 11,
      "outputs": [
        {
          "output_type": "stream",
          "text": [
            "[0.743 0.782 0.807 0.639 0.77  0.803 0.802 0.732 0.771 0.808]\n"
          ],
          "name": "stdout"
        }
      ]
    }
  ]
}