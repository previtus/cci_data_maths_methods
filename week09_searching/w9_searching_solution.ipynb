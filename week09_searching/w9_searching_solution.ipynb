{
  "nbformat": 4,
  "nbformat_minor": 0,
  "metadata": {
    "colab": {
      "name": "w9_searching_solution.ipynb",
      "provenance": [],
      "collapsed_sections": [
        "UO-UB-bv9M0M"
      ]
    },
    "kernelspec": {
      "name": "python3",
      "display_name": "Python 3"
    }
  },
  "cells": [
    {
      "cell_type": "markdown",
      "metadata": {
        "id": "XCiWL1VJ1P2w",
        "colab_type": "text"
      },
      "source": [
        "# Searching"
      ]
    },
    {
      "cell_type": "markdown",
      "metadata": {
        "id": "UXnQU2Ly7W1h",
        "colab_type": "text"
      },
      "source": [
        "Map data:\n",
        "\n",
        "<p align=\"center\">\n",
        "<img src=\"https://raw.githubusercontent.com/previtus/cci_data_maths_methods/master/week09_searching/w09_searching-map.png\" width=\"520\">\n",
        "</p>\n",
        "\n"
      ]
    },
    {
      "cell_type": "code",
      "metadata": {
        "id": "hMv_b7_j1Jmh",
        "colab_type": "code",
        "colab": {}
      },
      "source": [
        "# let's represent this map of our data as a dictionary\n",
        "\n",
        "moves_dictionary = {}\n",
        "moves_dictionary[\"a\"] = [\"b\",\"c\",\"d\"]\n",
        "moves_dictionary[\"b\"] = [\"e\",\"f\"]\n",
        "moves_dictionary[\"c\"] = [] # ps: for easier coding we can also include the nodes without any following paths\n",
        "moves_dictionary[\"d\"] = [\"j\",\"i\"]\n",
        "moves_dictionary[\"e\"] = [\"z\",\"w\"]\n",
        "moves_dictionary[\"f\"] = []\n",
        "moves_dictionary[\"i\"] = []\n",
        "moves_dictionary[\"j\"] = [\"k\",\"l\"]\n",
        "moves_dictionary[\"k\"] = []\n",
        "moves_dictionary[\"l\"] = []\n",
        "moves_dictionary[\"w\"] = []\n",
        "moves_dictionary[\"z\"] = []"
      ],
      "execution_count": 0,
      "outputs": []
    },
    {
      "cell_type": "code",
      "metadata": {
        "id": "LJ09sL0XaRkL",
        "colab_type": "code",
        "colab": {
          "base_uri": "https://localhost:8080/",
          "height": 35
        },
        "outputId": "9a40f462-bbbd-4108-b60b-1ad4b4c87121"
      },
      "source": [
        "print(moves_dictionary[\"b\"])"
      ],
      "execution_count": 17,
      "outputs": [
        {
          "output_type": "stream",
          "text": [
            "['e', 'f']\n"
          ],
          "name": "stdout"
        }
      ]
    },
    {
      "cell_type": "code",
      "metadata": {
        "id": "_YFL3Jtf77v5",
        "colab_type": "code",
        "colab": {}
      },
      "source": [
        "# let's set up some starter variables:\n",
        "\n",
        "current = \"a\"\n",
        "goal = \"w\"\n",
        "visited = [current] # this one would be important if we did't have a tree graph, but if we also had some cycles in it!\n",
        "possible_moves = moves_dictionary[current]"
      ],
      "execution_count": 0,
      "outputs": []
    },
    {
      "cell_type": "code",
      "metadata": {
        "id": "8ww-lLmn8O4V",
        "colab_type": "code",
        "outputId": "1b1493b6-c6da-43d9-b7e6-6277c3df5d22",
        "colab": {
          "base_uri": "https://localhost:8080/",
          "height": 52
        }
      },
      "source": [
        "print(\"We are in [\", current,\"] and we can take these steps:\", possible_moves)\n",
        "print(\"Next one we take is going to be:\", possible_moves[0])"
      ],
      "execution_count": 8,
      "outputs": [
        {
          "output_type": "stream",
          "text": [
            "We are in [ a ] and we can take these steps: ['b', 'c', 'd']\n",
            "Next one we take is going to be: b\n"
          ],
          "name": "stdout"
        }
      ]
    },
    {
      "cell_type": "markdown",
      "metadata": {
        "id": "vDbn6pZy8b2N",
        "colab_type": "text"
      },
      "source": [
        "Pseudo code of our searching algorithm:\n",
        "\n",
        "*PS: Note that we have set the other variables as it was on the slide!*\n",
        "\n",
        "<p align=\"center\">\n",
        "<img src=\"https://raw.githubusercontent.com/previtus/cci_data_maths_methods/master/week09_searching/w09_searching-pseudo.png\" width=\"520\">\n",
        "</p>\n",
        "\n"
      ]
    },
    {
      "cell_type": "code",
      "metadata": {
        "id": "RshPrvNK8w7d",
        "colab_type": "code",
        "colab": {
          "base_uri": "https://localhost:8080/",
          "height": 780
        },
        "outputId": "c036a5d1-08c2-49fb-b010-76a04aa53ec2"
      },
      "source": [
        "# TODO: code up the algorithm!\n",
        "# Task is to visit every node in the graph and detect if we have found the final one (\"goal\")\n",
        "# It is up to you if we use Depth First Search of Breadth First Search\n",
        "# PS: In this scenario we don't care about finding the shortest path - bonus question: What should we add to be able to find it??\n",
        "\n",
        "current = \"a\"\n",
        "goal = \"l\"\n",
        "visited = [current]\n",
        "possible_moves = moves_dictionary[current]\n",
        "\n",
        "backward_paths = {}\n",
        "for move in possible_moves:\n",
        "    backward_paths[ move ] = current\n",
        "\n",
        "#print(\"possible_moves:\",possible_moves)\n",
        "#print(\"backward_paths:\",backward_paths)\n",
        "\n",
        "# [Pseudo-code]\n",
        "# While we can move ...\n",
        "#   - current = the first node from possible moves\n",
        "#   - check if current == goal?\n",
        "#   - add the current into visited nodes\n",
        "#   - add the new nodes reachable from the current one into possible moves\n",
        "\n",
        "step_i = 0\n",
        "\n",
        "while len(possible_moves) > 0:\n",
        "    current = possible_moves[0]\n",
        "    possible_moves = possible_moves[1:]\n",
        "\n",
        "    print(\"Step:\", step_i)\n",
        "    step_i += 1\n",
        "    print(\"We are in [\", current,\"] and we can take these steps:\", possible_moves)\n",
        "    if len(possible_moves) > 0:\n",
        "        print(\"Next one we take is going to be:\", possible_moves[0])\n",
        "\n",
        "    if current == goal:\n",
        "        break\n",
        "\n",
        "    visited.append(current)\n",
        "\n",
        "    new_moves = moves_dictionary[ current ]\n",
        "    for move in new_moves:\n",
        "        if move not in visited:\n",
        "            # The node has not been visited yet -> let's add it to the list!\n",
        "\n",
        "            # Append it -> new nodes to be processed the latest -> Breadth-First Search\n",
        "            possible_moves.append( move )\n",
        "\n",
        "            # Prepend it -> new nodes to be processes first -> DFS\n",
        "            #possible_moves = [move] + possible_moves\n",
        "\n",
        "            backward_paths[ move ] = current\n",
        "    \n",
        "    #foo = input()\n",
        "    print(\"-=-\")\n",
        "\n",
        "# Handle the final state\n",
        "print()\n",
        "\n",
        "if current == goal:\n",
        "    print(\"Hurray! We reached it!\")\n",
        "\n",
        "else:\n",
        "    print(\"The goal node is not in the treeee\")"
      ],
      "execution_count": 43,
      "outputs": [
        {
          "output_type": "stream",
          "text": [
            "Step: 0\n",
            "We are in [ b ] and we can take these steps: ['c', 'd']\n",
            "Next one we take is going to be: c\n",
            "-=-\n",
            "Step: 1\n",
            "We are in [ c ] and we can take these steps: ['d', 'e', 'f']\n",
            "Next one we take is going to be: d\n",
            "-=-\n",
            "Step: 2\n",
            "We are in [ d ] and we can take these steps: ['e', 'f']\n",
            "Next one we take is going to be: e\n",
            "-=-\n",
            "Step: 3\n",
            "We are in [ e ] and we can take these steps: ['f', 'j', 'i']\n",
            "Next one we take is going to be: f\n",
            "-=-\n",
            "Step: 4\n",
            "We are in [ f ] and we can take these steps: ['j', 'i', 'z', 'w']\n",
            "Next one we take is going to be: j\n",
            "-=-\n",
            "Step: 5\n",
            "We are in [ j ] and we can take these steps: ['i', 'z', 'w']\n",
            "Next one we take is going to be: i\n",
            "-=-\n",
            "Step: 6\n",
            "We are in [ i ] and we can take these steps: ['z', 'w', 'k', 'l']\n",
            "Next one we take is going to be: z\n",
            "-=-\n",
            "Step: 7\n",
            "We are in [ z ] and we can take these steps: ['w', 'k', 'l']\n",
            "Next one we take is going to be: w\n",
            "-=-\n",
            "Step: 8\n",
            "We are in [ w ] and we can take these steps: ['k', 'l']\n",
            "Next one we take is going to be: k\n",
            "-=-\n",
            "Step: 9\n",
            "We are in [ k ] and we can take these steps: ['l']\n",
            "Next one we take is going to be: l\n",
            "-=-\n",
            "Step: 10\n",
            "We are in [ l ] and we can take these steps: []\n",
            "\n",
            "Hurray! We reached it!\n"
          ],
          "name": "stdout"
        }
      ]
    },
    {
      "cell_type": "code",
      "metadata": {
        "id": "LmsthXS0fzaf",
        "colab_type": "code",
        "colab": {
          "base_uri": "https://localhost:8080/",
          "height": 52
        },
        "outputId": "6c73cbdc-0d64-4d87-aa06-028ec2d2e662"
      },
      "source": [
        "print(backward_paths)\n",
        "\n",
        "path = []\n",
        "\n",
        "back = goal\n",
        "path.append(back)\n",
        "while back is not \"a\":\n",
        "    back = backward_paths[back]\n",
        "    #path.append(back) # append\n",
        "    path = [back] + path # prepend\n",
        "\n",
        "print(path)"
      ],
      "execution_count": 44,
      "outputs": [
        {
          "output_type": "stream",
          "text": [
            "{'b': 'a', 'c': 'a', 'd': 'a', 'e': 'b', 'f': 'b', 'j': 'd', 'i': 'd', 'z': 'e', 'w': 'e', 'k': 'j', 'l': 'j'}\n",
            "['a', 'd', 'j', 'l']\n"
          ],
          "name": "stdout"
        }
      ]
    },
    {
      "cell_type": "markdown",
      "metadata": {
        "id": "UO-UB-bv9M0M",
        "colab_type": "text"
      },
      "source": [
        "## Solution:"
      ]
    },
    {
      "cell_type": "code",
      "metadata": {
        "id": "wAqz7mEL8s6v",
        "colab_type": "code",
        "outputId": "2535807c-452d-49e9-f747-0d0ad03a583b",
        "colab": {
          "base_uri": "https://localhost:8080/",
          "height": 646
        }
      },
      "source": [
        "# Spoiler alert, here is the solution :D\n",
        "\n",
        "\n",
        "current = \"a\"\n",
        "goal = \"w\"\n",
        "visited = [current]\n",
        "possible_moves = moves_dictionary[current]\n",
        "\n",
        "BONUS_backward_path = {}\n",
        "for move in possible_moves:\n",
        "    BONUS_backward_path[move] = current\n",
        "\n",
        "step_i = 0 # only for the debugs\n",
        "\n",
        "while len(possible_moves) > 0: # << While we still can make a move ...\n",
        "    print(\"Step:\", step_i)\n",
        "    \n",
        "    step_i += 1\n",
        "    print(\"We are in [\", current,\"] and we can take these steps:\", possible_moves)\n",
        "    print(\"Next one we take is going to be:\", possible_moves[0])\n",
        "\n",
        "    # move to the first possible node\n",
        "    current = possible_moves[0] # current = the first node from the possible moves\n",
        "    # Delete the move we just took\n",
        "    possible_moves = possible_moves[1:]\n",
        "\n",
        "    # check if current == the goal ?\n",
        "    if current == goal:\n",
        "        break\n",
        "\n",
        "    # add current into the visited nodes list\n",
        "    visited.append(current)\n",
        "\n",
        "    # add new possible moves - here we decide if we implement DFS or BFS!\n",
        "    new_moves = moves_dictionary[ current ]\n",
        "    print(\"New moves to be added are:\", new_moves)\n",
        "    for move in new_moves:\n",
        "        if move not in visited:\n",
        "            # Appending the new moves at the end of the list \n",
        "            # This will cause them to be inspected later (after everything else has been processed in this list)\n",
        "            # This means it will behave as a Breadth-First Search!\n",
        "            possible_moves.append( move )\n",
        "\n",
        "            # Or we can prepend the new move at the start of the list!\n",
        "            # This will cause them to be inspected sooner (before everything else we had in the list)\n",
        "            # This means it will behave as a Depth-First Search!\n",
        "            #possible_moves.insert(0, move)\n",
        "\n",
        "            BONUS_backward_path[move] = current\n",
        "    \n",
        "    # To slow down the output, keep it at step by step:\n",
        "    #foo = input()\n",
        "    \n",
        "\n",
        "# When we end the loop (we either exhausted all possible moves, or we broke from the loop), we can make the final check:\n",
        "print(\"---\")\n",
        "if current == goal:\n",
        "    print(\"Hurray, the goal is reachable!\")\n",
        "\n",
        "if current != goal:\n",
        "    print(\"There is no path between the two points!\")"
      ],
      "execution_count": 0,
      "outputs": [
        {
          "output_type": "stream",
          "text": [
            "Step: 0\n",
            "We are in [ a ] and we can take these steps: ['b', 'c', 'd']\n",
            "Next one we take is going to be: b\n",
            "New moves to be added are: ['e', 'f']\n",
            "Step: 1\n",
            "We are in [ b ] and we can take these steps: ['c', 'd', 'e', 'f']\n",
            "Next one we take is going to be: c\n",
            "New moves to be added are: []\n",
            "Step: 2\n",
            "We are in [ c ] and we can take these steps: ['d', 'e', 'f']\n",
            "Next one we take is going to be: d\n",
            "New moves to be added are: ['j', 'i']\n",
            "Step: 3\n",
            "We are in [ d ] and we can take these steps: ['e', 'f', 'j', 'i']\n",
            "Next one we take is going to be: e\n",
            "New moves to be added are: ['z', 'w']\n",
            "Step: 4\n",
            "We are in [ e ] and we can take these steps: ['f', 'j', 'i', 'z', 'w']\n",
            "Next one we take is going to be: f\n",
            "New moves to be added are: []\n",
            "Step: 5\n",
            "We are in [ f ] and we can take these steps: ['j', 'i', 'z', 'w']\n",
            "Next one we take is going to be: j\n",
            "New moves to be added are: ['k', 'l']\n",
            "Step: 6\n",
            "We are in [ j ] and we can take these steps: ['i', 'z', 'w', 'k', 'l']\n",
            "Next one we take is going to be: i\n",
            "New moves to be added are: []\n",
            "Step: 7\n",
            "We are in [ i ] and we can take these steps: ['z', 'w', 'k', 'l']\n",
            "Next one we take is going to be: z\n",
            "New moves to be added are: []\n",
            "Step: 8\n",
            "We are in [ z ] and we can take these steps: ['w', 'k', 'l']\n",
            "Next one we take is going to be: w\n",
            "---\n",
            "Hurray, the goal is reachable!\n"
          ],
          "name": "stdout"
        }
      ]
    },
    {
      "cell_type": "markdown",
      "metadata": {
        "id": "HqLGK8lhBzMz",
        "colab_type": "text"
      },
      "source": [
        "### Bonus: tracking our path back\n",
        "What if we wanted to print the path that we need to take?\n",
        "If we save the backwards steps, we can back track it!"
      ]
    },
    {
      "cell_type": "code",
      "metadata": {
        "id": "NZSeECiOBxC0",
        "colab_type": "code",
        "outputId": "2fac1584-8dda-4c47-a3f4-8683ebb28f72",
        "colab": {
          "base_uri": "https://localhost:8080/",
          "height": 34
        }
      },
      "source": [
        "print(BONUS_backward_path)"
      ],
      "execution_count": 0,
      "outputs": [
        {
          "output_type": "stream",
          "text": [
            "{'b': 'a', 'c': 'a', 'd': 'a', 'e': 'b', 'f': 'b', 'j': 'd', 'i': 'd', 'z': 'e', 'w': 'e', 'k': 'j', 'l': 'j'}\n"
          ],
          "name": "stdout"
        }
      ]
    },
    {
      "cell_type": "code",
      "metadata": {
        "id": "_HJdVRvVB-Z3",
        "colab_type": "code",
        "outputId": "8edec233-d91d-4aa8-b559-4512c52c595a",
        "colab": {
          "base_uri": "https://localhost:8080/",
          "height": 34
        }
      },
      "source": [
        "print(\"We ended in [\",current,\"]\")"
      ],
      "execution_count": 0,
      "outputs": [
        {
          "output_type": "stream",
          "text": [
            "We ended in [ w ]\n"
          ],
          "name": "stdout"
        }
      ]
    },
    {
      "cell_type": "code",
      "metadata": {
        "id": "UT0x3zKICDsT",
        "colab_type": "code",
        "outputId": "8ddc63b8-9073-406f-f25b-d64343da9629",
        "colab": {
          "base_uri": "https://localhost:8080/",
          "height": 85
        }
      },
      "source": [
        "backtrack = current\n",
        "start = \"a\"\n",
        "path = []\n",
        "\n",
        "while backtrack != start:\n",
        "    back = BONUS_backward_path[backtrack]\n",
        "    print(\"To get to [\", backtrack, \"] we went from [\", back, \"]\")\n",
        "    path.insert(0, backtrack)\n",
        "\n",
        "    backtrack = back\n",
        "\n",
        "path.insert(0, start)\n",
        "print(\"Path = \", path)"
      ],
      "execution_count": 0,
      "outputs": [
        {
          "output_type": "stream",
          "text": [
            "To get to [ w ] we went from [ e ]\n",
            "To get to [ e ] we went from [ b ]\n",
            "To get to [ b ] we went from [ a ]\n",
            "Path =  ['a', 'b', 'e', 'w']\n"
          ],
          "name": "stdout"
        }
      ]
    }
  ]
}