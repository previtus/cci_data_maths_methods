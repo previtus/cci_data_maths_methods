{
  "nbformat": 4,
  "nbformat_minor": 0,
  "metadata": {
    "colab": {
      "name": "w11_vectors-matrices.ipynb",
      "provenance": [],
      "collapsed_sections": [
        "-Lsa8mh4hFse",
        "nEOCmiMZh07i"
      ]
    },
    "kernelspec": {
      "name": "python3",
      "display_name": "Python 3"
    }
  },
  "cells": [
    {
      "cell_type": "markdown",
      "metadata": {
        "id": "LBM_rfGibb3y",
        "colab_type": "text"
      },
      "source": [
        "# Vector and Matrix manipulation in Python"
      ]
    },
    {
      "cell_type": "markdown",
      "metadata": {
        "id": "-uxhJ5eretUe",
        "colab_type": "text"
      },
      "source": [
        "## Basic vectors:"
      ]
    },
    {
      "cell_type": "code",
      "metadata": {
        "id": "SA2NLcICbV1z",
        "colab_type": "code",
        "colab": {}
      },
      "source": [
        "# vectors in python:\n",
        "u = [2, 13]\n",
        "v = [4, 5]"
      ],
      "execution_count": 0,
      "outputs": []
    },
    {
      "cell_type": "code",
      "metadata": {
        "id": "St7134ZMdY5F",
        "colab_type": "code",
        "colab": {}
      },
      "source": [
        "# numpy library has some handy opearations for vectors and matrices:\n",
        "\n",
        "import numpy as np\n",
        "u = np.asarray(u)\n",
        "v = np.asarray(v)\n",
        "\n",
        "print(\"u =\", u)\n",
        "print(\"v =\", v)\n",
        "# dot product - or element-wise multiplication\n",
        "w = v.dot(u)\n",
        "print(\"w =\", w)\n",
        "\n",
        "test = v[0]*u[0] + v[1]*u[1] \n",
        "print(\"test =\", test)"
      ],
      "execution_count": 0,
      "outputs": []
    },
    {
      "cell_type": "markdown",
      "metadata": {
        "id": "6Zle1pLpewng",
        "colab_type": "text"
      },
      "source": [
        "## Basic matrices:"
      ]
    },
    {
      "cell_type": "code",
      "metadata": {
        "id": "fE5fC0zveaN6",
        "colab_type": "code",
        "colab": {}
      },
      "source": [
        "# How to write matrices?\n",
        "\n",
        "M = [\n",
        "     [1,2],\n",
        "     [3,4]\n",
        "    ]\n",
        "M = np.asarray(M)\n",
        "\n",
        "print(\"M =\", M)\n",
        "print(\"M transposed =\", M.T)"
      ],
      "execution_count": 0,
      "outputs": []
    },
    {
      "cell_type": "code",
      "metadata": {
        "id": "hrVrYcpwfhmY",
        "colab_type": "code",
        "colab": {}
      },
      "source": [
        "# multiply by real number\n",
        "\n",
        "a = 10\n",
        "print(\"a*M =\", a*M)"
      ],
      "execution_count": 0,
      "outputs": []
    },
    {
      "cell_type": "code",
      "metadata": {
        "id": "lokOjlRffm9j",
        "colab_type": "code",
        "colab": {}
      },
      "source": [
        "# add / subtract ...\n",
        "\n",
        "print(\"M+M =\", M+M)\n",
        "print(\"M-M =\", M-M)"
      ],
      "execution_count": 0,
      "outputs": []
    },
    {
      "cell_type": "code",
      "metadata": {
        "id": "DnZaG4NVe0uy",
        "colab_type": "code",
        "colab": {}
      },
      "source": [
        "# How to multiply them?\n",
        "\n",
        "A = [\n",
        "     [1,0,-3],\n",
        "     [-2,4,1]\n",
        "    ]\n",
        "B = [\n",
        "     [1,0,4],\n",
        "     [-2,3,-1],\n",
        "     [0,-1,2]\n",
        "    ]\n",
        "A = np.asarray(A)\n",
        "B = np.asarray(B)\n",
        "\n",
        "print(\"A:\", A)\n",
        "print(\"B:\", B)\n",
        "C = np.matmul(A, B)\n",
        "\n",
        "print(\"C = AB = \", C)"
      ],
      "execution_count": 0,
      "outputs": []
    },
    {
      "cell_type": "markdown",
      "metadata": {
        "id": "ylIwc3eFg3jy",
        "colab_type": "text"
      },
      "source": [
        "### ... and not so basic matrices ..."
      ]
    },
    {
      "cell_type": "code",
      "metadata": {
        "id": "vjWfVR2BfSym",
        "colab_type": "code",
        "colab": {}
      },
      "source": [
        "# So ... if A*B = C\n",
        "# can we get an inverse element?\n",
        "#                 C * B_inverse => A ?\n",
        "\n",
        "# Let's plug in some linear algebra:\n",
        "# inverse!\n",
        "invB = np.linalg.inv(B) \n",
        "print(\"inverse of B:\", invB)\n",
        "\n",
        "# C * B_inverse => A\n",
        "Areconstruct = np.matmul(C, invB)\n",
        "print(\"Reconstructed A:\", Areconstruct)\n",
        "print(\"Original A:\", A)\n"
      ],
      "execution_count": 0,
      "outputs": []
    },
    {
      "cell_type": "markdown",
      "metadata": {
        "id": "5pYt2oIWg7da",
        "colab_type": "text"
      },
      "source": [
        "# Today's tasks:"
      ]
    },
    {
      "cell_type": "markdown",
      "metadata": {
        "id": "-Lsa8mh4hFse",
        "colab_type": "text"
      },
      "source": [
        "## Task 1: Vector normalization\n",
        "\n",
        "Given a vector u = (10,2,3) ... find me a normalized u (an unit vector of u)."
      ]
    },
    {
      "cell_type": "code",
      "metadata": {
        "id": "XZ-li9J_hIbL",
        "colab_type": "code",
        "colab": {}
      },
      "source": [
        "u = [10,2,3]\n",
        "u = np.asarray(u)\n",
        "\n",
        "# we will need to calculate it's lenght (magnitude)\n",
        "# |u| = ??? (if need be, find it in the slides...)\n",
        "\n",
        "u_dist = [] # ???\n",
        "\n",
        "# and then use this formula:\n",
        "# u / |u| = normalized u\n",
        "\n",
        "u_norm = [] # ???"
      ],
      "execution_count": 0,
      "outputs": []
    },
    {
      "cell_type": "code",
      "metadata": {
        "id": "OLW3ps_Mkc_v",
        "colab_type": "code",
        "colab": {}
      },
      "source": [
        "# bonus, write them as functions:\n",
        "def vector_magnitude(u)\n",
        "    # returns magnitude of the vector u\n",
        "    pass\n",
        "    \n",
        "def vector_normalization(u)\n",
        "    # returns unit vector of the vector u\n",
        "    pass\n",
        "\n",
        "# then we should be able to check:\n",
        "u = np.asarray([10,2,3])\n",
        "assert vector_magnitude(vector_normalization(u)) == 1.0 # ... that the magnitude of a normalized vector is 1.0"
      ],
      "execution_count": 0,
      "outputs": []
    },
    {
      "cell_type": "markdown",
      "metadata": {
        "id": "nEOCmiMZh07i",
        "colab_type": "text"
      },
      "source": [
        "## Task 2: Interpolation between vectors"
      ]
    },
    {
      "cell_type": "markdown",
      "metadata": {
        "id": "cY2X2D_dg_jB",
        "colab_type": "text"
      },
      "source": [
        "Vector interpolation:\n",
        "\n",
        "<p align=\"center\">\n",
        "<img src=\"https://raw.githubusercontent.com/previtus/cci_data_maths_methods/master/week11_vectors-matrices/w11_vectors-interpolation-ilustration.png\" width=\"520\">\n",
        "</p>\n",
        "\n"
      ]
    },
    {
      "cell_type": "markdown",
      "metadata": {
        "id": "ZglmirzRh_7N",
        "colab_type": "text"
      },
      "source": [
        "Given vectors u and v, write a function which will give me a linear combination of these vectors (aka will return the mixed vector m)."
      ]
    },
    {
      "cell_type": "code",
      "metadata": {
        "id": "bTzBULrdiLAf",
        "colab_type": "code",
        "colab": {}
      },
      "source": [
        "def vector_interpolation(u, v, a):\n",
        "    # u is a vector\n",
        "    # v is a vector\n",
        "    # a is a real number between 0 and 1\n",
        "    \n",
        "    return u # demo, just that we reuturn something, its wrong though~\n",
        "    # return m, an interpolated vector! (check the illustration above for the formula)"
      ],
      "execution_count": 0,
      "outputs": []
    },
    {
      "cell_type": "markdown",
      "metadata": {
        "id": "flbNK3bpie_k",
        "colab_type": "text"
      },
      "source": [
        "Bonus, let's use that function!\n",
        "\n",
        "*PS: this piece of code will need the function to be doing what's it supposed to ...*\n"
      ]
    },
    {
      "cell_type": "code",
      "metadata": {
        "id": "DtY7pt_Siefy",
        "colab_type": "code",
        "colab": {}
      },
      "source": [
        "# encoded RGB colors\n",
        "color_1 = [255,0,0]\n",
        "color_2 = [0,0,255]\n",
        "color_1 = np.asarray(color_1)\n",
        "color_2 = np.asarray(color_2)\n",
        "\n",
        "# plot it as a strip of colors:\n",
        "import numpy as np\n",
        "import IPython.display\n",
        "import PIL.Image\n",
        "samples_x = 800\n",
        "height = 20\n",
        "pixels_per_sample = 1\n",
        "\n",
        "size = [height, samples_x*pixels_per_sample, 3]\n",
        "empty_image = np.zeros(size)\n",
        "\n",
        "for i in range(samples_x):\n",
        "    block = [i*pixels_per_sample, (i+1)*pixels_per_sample]\n",
        "    a = float(i) / (samples_x-1) # goes from 0.0 to 1.0\n",
        "    \n",
        "    # << This will call your interpolation function \"vector_interpolation\"\n",
        "    color = vector_interpolation(color_1, color_2, a)\n",
        "\n",
        "    empty_image[0:height, block[0]:block[1], :] = color\n",
        "\n",
        "IPython.display.display(PIL.Image.fromarray(np.uint8(empty_image)))"
      ],
      "execution_count": 0,
      "outputs": []
    }
  ]
}