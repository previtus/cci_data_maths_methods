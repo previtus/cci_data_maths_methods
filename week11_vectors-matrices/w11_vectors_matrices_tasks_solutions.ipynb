{
  "nbformat": 4,
  "nbformat_minor": 0,
  "metadata": {
    "colab": {
      "name": "w11_vectors-matrices.ipynb",
      "provenance": [],
      "collapsed_sections": []
    },
    "kernelspec": {
      "name": "python3",
      "display_name": "Python 3"
    }
  },
  "cells": [
    {
      "cell_type": "markdown",
      "metadata": {
        "id": "LBM_rfGibb3y",
        "colab_type": "text"
      },
      "source": [
        "# Vector and Matrix manipulation in Python"
      ]
    },
    {
      "cell_type": "markdown",
      "metadata": {
        "id": "-uxhJ5eretUe",
        "colab_type": "text"
      },
      "source": [
        "## Basic vectors:"
      ]
    },
    {
      "cell_type": "code",
      "metadata": {
        "id": "SA2NLcICbV1z",
        "colab_type": "code",
        "outputId": "e131ca05-ab6f-4b6a-de4c-e32e30b50b7b",
        "colab": {
          "base_uri": "https://localhost:8080/",
          "height": 35
        }
      },
      "source": [
        "# vectors in python:\n",
        "u = [2, 13]\n",
        "v = [4, 5]\n",
        "\n",
        "print(u, v)"
      ],
      "execution_count": 0,
      "outputs": [
        {
          "output_type": "stream",
          "text": [
            "[2, 13] [4, 5]\n"
          ],
          "name": "stdout"
        }
      ]
    },
    {
      "cell_type": "code",
      "metadata": {
        "id": "St7134ZMdY5F",
        "colab_type": "code",
        "outputId": "e346debf-1ee1-41c2-dbf6-a894c3905b32",
        "colab": {
          "base_uri": "https://localhost:8080/",
          "height": 87
        }
      },
      "source": [
        "# numpy library has some handy operations for vectors and matrices:\n",
        "\n",
        "import numpy as np\n",
        "u = np.asarray(u)\n",
        "v = np.asarray(v)\n",
        "\n",
        "print(\"u =\", u)\n",
        "print(\"v =\", v)\n",
        "\n",
        "# dot product - or element-wise multiplication\n",
        "w = v.dot(u)\n",
        "print(\"w =\", w)\n",
        "\n",
        "test = v[0]*u[0] + v[1]*u[1]\n",
        "print(\"test =\", test)"
      ],
      "execution_count": 0,
      "outputs": [
        {
          "output_type": "stream",
          "text": [
            "u = [ 2 13]\n",
            "v = [4 5]\n",
            "w = 73\n",
            "test = 73\n"
          ],
          "name": "stdout"
        }
      ]
    },
    {
      "cell_type": "markdown",
      "metadata": {
        "id": "6Zle1pLpewng",
        "colab_type": "text"
      },
      "source": [
        "## Basic matrices:"
      ]
    },
    {
      "cell_type": "code",
      "metadata": {
        "id": "fE5fC0zveaN6",
        "colab_type": "code",
        "outputId": "4eb9bfa7-27e7-47b8-ec4f-e30af6022283",
        "colab": {
          "base_uri": "https://localhost:8080/",
          "height": 87
        }
      },
      "source": [
        "# How to write matrices?\n",
        "M = [\n",
        "     [1,2],\n",
        "     [3,4]\n",
        "    ]\n",
        "M = np.asarray(M)\n",
        "\n",
        "print(\"M =\", M)\n",
        "print(\"M transposed =\", M.T)"
      ],
      "execution_count": 0,
      "outputs": [
        {
          "output_type": "stream",
          "text": [
            "M = [[1 2]\n",
            " [3 4]]\n",
            "M transposed = [[1 3]\n",
            " [2 4]]\n"
          ],
          "name": "stdout"
        }
      ]
    },
    {
      "cell_type": "code",
      "metadata": {
        "id": "hrVrYcpwfhmY",
        "colab_type": "code",
        "outputId": "de16b4f3-62d5-449b-dcd0-b31402230658",
        "colab": {
          "base_uri": "https://localhost:8080/",
          "height": 52
        }
      },
      "source": [
        "# multiply by real number\n",
        "\n",
        "a = 10\n",
        "print(\"a*M =\", a*M)"
      ],
      "execution_count": 0,
      "outputs": [
        {
          "output_type": "stream",
          "text": [
            "a*M = [[10 20]\n",
            " [30 40]]\n"
          ],
          "name": "stdout"
        }
      ]
    },
    {
      "cell_type": "code",
      "metadata": {
        "id": "lokOjlRffm9j",
        "colab_type": "code",
        "outputId": "c8f45ccb-1468-4418-b8e1-6d941555a913",
        "colab": {
          "base_uri": "https://localhost:8080/",
          "height": 87
        }
      },
      "source": [
        "# add / subtract ...\n",
        "\n",
        "print(\"M+M =\", M+M)\n",
        "print(\"M-M =\", M-M)"
      ],
      "execution_count": 0,
      "outputs": [
        {
          "output_type": "stream",
          "text": [
            "M+M = [[2 4]\n",
            " [6 8]]\n",
            "M-M = [[0 0]\n",
            " [0 0]]\n"
          ],
          "name": "stdout"
        }
      ]
    },
    {
      "cell_type": "code",
      "metadata": {
        "id": "DnZaG4NVe0uy",
        "colab_type": "code",
        "outputId": "134b53de-e7f7-4f62-cfde-10721c9ac372",
        "colab": {
          "base_uri": "https://localhost:8080/",
          "height": 139
        }
      },
      "source": [
        "# How to multiply them?\n",
        "\n",
        "A = [\n",
        "     [1,0,-3],\n",
        "     [-2,4,1]\n",
        "    ]\n",
        "B = [\n",
        "     [1,0,4],\n",
        "     [-2,3,-1],\n",
        "     [0,-1,2]\n",
        "    ]\n",
        "A = np.asarray(A)\n",
        "B = np.asarray(B)\n",
        "\n",
        "print(\"A:\", A)\n",
        "print(\"B:\", B)\n",
        "C = np.matmul(A, B)\n",
        "\n",
        "print(\"C = AB = \", C)"
      ],
      "execution_count": 0,
      "outputs": [
        {
          "output_type": "stream",
          "text": [
            "A: [[ 1  0 -3]\n",
            " [-2  4  1]]\n",
            "B: [[ 1  0  4]\n",
            " [-2  3 -1]\n",
            " [ 0 -1  2]]\n",
            "C = AB =  [[  1   3  -2]\n",
            " [-10  11 -10]]\n"
          ],
          "name": "stdout"
        }
      ]
    },
    {
      "cell_type": "markdown",
      "metadata": {
        "id": "ylIwc3eFg3jy",
        "colab_type": "text"
      },
      "source": [
        "### ... and not so basic matrices ..."
      ]
    },
    {
      "cell_type": "code",
      "metadata": {
        "id": "vjWfVR2BfSym",
        "colab_type": "code",
        "outputId": "e221991a-7047-4949-f683-3d4f0f3883df",
        "colab": {
          "base_uri": "https://localhost:8080/",
          "height": 139
        }
      },
      "source": [
        "# So ... if A*B = C\n",
        "# can we get an inverse element?\n",
        "#                 C * B_inverse => A ?\n",
        "\n",
        "# Let's plug in some linear algebra:\n",
        "# inverse!\n",
        "invB = np.linalg.inv(B) \n",
        "print(\"inverse of B:\", invB)\n",
        "\n",
        "# C * B_inverse => A\n",
        "Areconstruct = np.matmul(C, invB)\n",
        "print(\"Reconstructed A:\", Areconstruct)\n",
        "print(\"Original A:\", A)"
      ],
      "execution_count": 0,
      "outputs": [
        {
          "output_type": "stream",
          "text": [
            "inverse of B: [[ 0.38461538 -0.30769231 -0.92307692]\n",
            " [ 0.30769231  0.15384615 -0.53846154]\n",
            " [ 0.15384615  0.07692308  0.23076923]]\n",
            "Reconstructed A: [[ 1.00000000e+00 -1.66533454e-16 -3.00000000e+00]\n",
            " [-2.00000000e+00  4.00000000e+00  1.00000000e+00]]\n",
            "Original A: [[ 1  0 -3]\n",
            " [-2  4  1]]\n"
          ],
          "name": "stdout"
        }
      ]
    },
    {
      "cell_type": "markdown",
      "metadata": {
        "id": "5pYt2oIWg7da",
        "colab_type": "text"
      },
      "source": [
        "# Today's tasks:"
      ]
    },
    {
      "cell_type": "markdown",
      "metadata": {
        "id": "-Lsa8mh4hFse",
        "colab_type": "text"
      },
      "source": [
        "## Task 1: Vector normalization\n",
        "\n",
        "Given a vector u = (10,2,3) ... find me a normalized u (an unit vector of u)."
      ]
    },
    {
      "cell_type": "code",
      "metadata": {
        "id": "XZ-li9J_hIbL",
        "colab_type": "code",
        "colab": {
          "base_uri": "https://localhost:8080/",
          "height": 51
        },
        "outputId": "b9f36e4e-8513-47eb-aaab-32544d51e5b6"
      },
      "source": [
        "import numpy as np\n",
        "u = [10,2,3]\n",
        "u = np.asarray(u)\n",
        "\n",
        "# we will need to calculate it's lenght (magnitude)\n",
        "# |u| = ??? (if need be, find it in the slides...)\n",
        "import math\n",
        "u_dist = math.sqrt(u[0]^2 + u[1]^2 + u[2]^2)\n",
        "print(u_dist)\n",
        "\n",
        "\n",
        "# and then use this formula:\n",
        "# u / |u| = normalized u\n",
        "\n",
        "u_norm = u / u_dist\n",
        "print(u_norm)"
      ],
      "execution_count": 5,
      "outputs": [
        {
          "output_type": "stream",
          "text": [
            "3.0\n",
            "[3.33333333 0.66666667 1.        ]\n"
          ],
          "name": "stdout"
        }
      ]
    },
    {
      "cell_type": "code",
      "metadata": {
        "id": "OLW3ps_Mkc_v",
        "colab_type": "code",
        "colab": {
          "base_uri": "https://localhost:8080/",
          "height": 85
        },
        "outputId": "2ec06eb2-1ff5-4bfd-a832-f196b7ab61a8"
      },
      "source": [
        "import math \n",
        "\n",
        "# bonus, write them as functions:\n",
        "def vector_magnitude(u):\n",
        "    # returns magnitude of the vector u\n",
        "    cummulative = 0\n",
        "    for val in u:\n",
        "        cummulative += val*val\n",
        "\n",
        "    return math.sqrt(cummulative)\n",
        "    \n",
        "def vector_normalization(u):\n",
        "    # returns unit vector of the vector u\n",
        "    dist = vector_magnitude(u)\n",
        "    return u / dist\n",
        "\n",
        "# then we should be able to check:\n",
        "u = np.asarray([10,2,3])\n",
        "\n",
        "# PS: this is not precise:\n",
        "#assert vector_magnitude(vector_normalization(u)) == 1.0 # ... that the magnitude of a normalized vector is 1.0\n",
        "\n",
        "print(u)\n",
        "print(vector_normalization(u))\n",
        "print(vector_magnitude(vector_normalization(u)))\n",
        "\n",
        "# This number is very close to 1.0, but we lost some precision in the process\n",
        "print(1.0 - vector_magnitude(vector_normalization(u)))\n",
        "\n",
        "# Let's instead check if the error is small enough!\n",
        "epsilon = 0.00001\n",
        "assert (1.0 - vector_magnitude(vector_normalization(u))) < epsilon"
      ],
      "execution_count": 12,
      "outputs": [
        {
          "output_type": "stream",
          "text": [
            "[10  2  3]\n",
            "[0.94072087 0.18814417 0.28221626]\n",
            "0.9999999999999999\n",
            "1.1102230246251565e-16\n"
          ],
          "name": "stdout"
        }
      ]
    },
    {
      "cell_type": "markdown",
      "metadata": {
        "id": "nEOCmiMZh07i",
        "colab_type": "text"
      },
      "source": [
        "## Task 2: Interpolation between vectors"
      ]
    },
    {
      "cell_type": "markdown",
      "metadata": {
        "id": "cY2X2D_dg_jB",
        "colab_type": "text"
      },
      "source": [
        "Vector interpolation:\n",
        "\n",
        "<p align=\"center\">\n",
        "<img src=\"https://raw.githubusercontent.com/previtus/cci_data_maths_methods/master/week11_vectors-matrices/w11_vectors-interpolation-ilustration.png\" width=\"520\">\n",
        "</p>\n",
        "\n"
      ]
    },
    {
      "cell_type": "markdown",
      "metadata": {
        "id": "ZglmirzRh_7N",
        "colab_type": "text"
      },
      "source": [
        "Given vectors u and v, write a function which will give me a linear combination of these vectors (aka will return the mixed vector m)."
      ]
    },
    {
      "cell_type": "code",
      "metadata": {
        "id": "bTzBULrdiLAf",
        "colab_type": "code",
        "colab": {}
      },
      "source": [
        "def vector_interpolation(u, v, a):\n",
        "    # u is a vector\n",
        "    # v is a vector\n",
        "    # a is a real number between 0 and 1\n",
        "    assert a >= 0.0 # maybe too hash way of checking - we could otherwise print out a message ... this kills the code directly!\n",
        "    assert a <= 1.0\n",
        "    \n",
        "    m = a*u + (1.0-a)*v\n",
        "    return m"
      ],
      "execution_count": 0,
      "outputs": []
    },
    {
      "cell_type": "markdown",
      "metadata": {
        "id": "flbNK3bpie_k",
        "colab_type": "text"
      },
      "source": [
        "Bonus, let's use that function!\n",
        "\n",
        "*PS: this piece of code will need the function to be doing what's it supposed to ...*\n"
      ]
    },
    {
      "cell_type": "code",
      "metadata": {
        "id": "DtY7pt_Siefy",
        "colab_type": "code",
        "colab": {
          "base_uri": "https://localhost:8080/",
          "height": 37
        },
        "outputId": "b66fadc6-2d96-443c-8a91-35effe3fdd66"
      },
      "source": [
        "# encoded RGB colors\n",
        "color_1 = [255,0,0]\n",
        "color_2 = [0,0,255]\n",
        "color_1 = np.asarray(color_1)\n",
        "color_2 = np.asarray(color_2)\n",
        "\n",
        "# plot it as a strip of colors:\n",
        "import numpy as np\n",
        "import IPython.display\n",
        "import PIL.Image\n",
        "samples_x = 800\n",
        "height = 20\n",
        "pixels_per_sample = 1\n",
        "\n",
        "size = [height, samples_x*pixels_per_sample, 3]\n",
        "empty_image = np.zeros(size)\n",
        "\n",
        "for i in range(samples_x):\n",
        "    block = [i*pixels_per_sample, (i+1)*pixels_per_sample]\n",
        "    a = float(i) / (samples_x-1) # goes from 0.0 to 1.0\n",
        "    \n",
        "    # << This will call your interpolation function \"vector_interpolation\"\n",
        "    color = vector_interpolation(color_1, color_2, a)\n",
        "\n",
        "    empty_image[0:height, block[0]:block[1], :] = color\n",
        "\n",
        "IPython.display.display(PIL.Image.fromarray(np.uint8(empty_image)))"
      ],
      "execution_count": 14,
      "outputs": [
        {
          "output_type": "display_data",
          "data": {
            "image/png": "[encoded data removed]",
            "text/plain": [
              "<PIL.Image.Image image mode=RGB size=800x20 at 0x7F9836AA3208>"
            ]
          },
          "metadata": {
            "tags": []
          }
        }
      ]
    }
  ]
}