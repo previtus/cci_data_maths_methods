{
  "nbformat": 4,
  "nbformat_minor": 0,
  "metadata": {
    "colab": {
      "name": "w12_practice_tasks.ipynb",
      "provenance": [],
      "collapsed_sections": []
    },
    "kernelspec": {
      "name": "python3",
      "display_name": "Python 3"
    }
  },
  "cells": [
    {
      "cell_type": "markdown",
      "metadata": {
        "id": "B0djxmxDl7WC",
        "colab_type": "text"
      },
      "source": [
        "# Practice tasks:"
      ]
    },
    {
      "cell_type": "markdown",
      "metadata": {
        "id": "hmSAqJiKmGqq",
        "colab_type": "text"
      },
      "source": [
        "0. **Starter, file types**"
      ]
    },
    {
      "cell_type": "code",
      "metadata": {
        "id": "xrcNS580l4UH",
        "colab_type": "code",
        "colab": {}
      },
      "source": [
        "# file types conversions\n",
        "# - Check if we would loose precision after converting types of a variable?\n",
        "\n",
        "original_1 = int(12) # convert to float and answer\n",
        "\n",
        "original_2 = float(12) # convert to int and answer\n"
      ],
      "execution_count": 0,
      "outputs": []
    },
    {
      "cell_type": "markdown",
      "metadata": {
        "id": "FRyEW2xTmwnR",
        "colab_type": "text"
      },
      "source": [
        "1. **Functions**"
      ]
    },
    {
      "cell_type": "code",
      "metadata": {
        "id": "i134V32rl7EN",
        "colab_type": "code",
        "colab": {}
      },
      "source": [
        "# linear function\n",
        "# - write a function which would evaluate the linear function formula f(x): a*x + b\n",
        "\n",
        "def linear_function_value(x,a,b):\n",
        "    pass\n",
        "\n",
        "# quadratic function\n",
        "# - write a function which would evaluate the quadratic function formula f(x): a*x^2 + b*x + c\n",
        "def quadratic_function_value(x,a,b,c):\n",
        "    pass\n",
        "\n",
        "# call them both to show their functioning"
      ],
      "execution_count": 0,
      "outputs": []
    },
    {
      "cell_type": "markdown",
      "metadata": {
        "id": "IIEvgd50nGtA",
        "colab_type": "text"
      },
      "source": [
        "3. **Prime numbers**"
      ]
    },
    {
      "cell_type": "code",
      "metadata": {
        "id": "V7rsRpFanKQ5",
        "colab_type": "code",
        "colab": {}
      },
      "source": [
        "# check if a number is divisible by another number without a remainder\n",
        "\n",
        "number = 10\n",
        "divide_by = 3\n",
        "\n",
        "remainder_after_divison = ???\n"
      ],
      "execution_count": 0,
      "outputs": []
    },
    {
      "cell_type": "code",
      "metadata": {
        "id": "tqmTqQUhnsA_",
        "colab_type": "code",
        "colab": {}
      },
      "source": [
        "# check if a number is prime?\n",
        "\n",
        "number = 4\n",
        "is_prime = ??? # use whatever method"
      ],
      "execution_count": 0,
      "outputs": []
    },
    {
      "cell_type": "markdown",
      "metadata": {
        "id": "-wrEG-RroB5p",
        "colab_type": "text"
      },
      "source": [
        "6. **Statistics**\n",
        "\n",
        "Average formula:\n",
        "\n",
        "> ![AVG](https://www.gstatic.com/education/formulas/images_long_sheet/en/mean.svg)\n",
        "\n",
        "\n",
        "\n",
        "\n",
        "Standard deviation formula:\n",
        "\n",
        ">  ![STD](https://www.gstatic.com/education/formulas/images_long_sheet/en/population_standard_deviation.svg)"
      ]
    },
    {
      "cell_type": "code",
      "metadata": {
        "id": "zPrqPwkGnz6X",
        "colab_type": "code",
        "colab": {}
      },
      "source": [
        "# - write down the formula for average from a list as a code\n",
        "\n",
        "def average(l):\n",
        "    pass\n",
        "\n",
        "# - write down the formula for standard deviation from a list as a code\n",
        "\n",
        "def std(l):\n",
        "    pass\n",
        "\n"
      ],
      "execution_count": 0,
      "outputs": []
    },
    {
      "cell_type": "markdown",
      "metadata": {
        "id": "x-eczzUSo1YP",
        "colab_type": "text"
      },
      "source": [
        "9. **Vector operations**\n"
      ]
    },
    {
      "cell_type": "code",
      "metadata": {
        "id": "u8s1VFsXo_qO",
        "colab_type": "code",
        "colab": {}
      },
      "source": [
        "# Implement some of the vector operations we discussed in class\n",
        "# - vector multiplied by real number\n",
        "\n",
        "def vec_mult_real(v, a):\n",
        "    pass\n",
        "\n",
        "# - vector added to another vector\n",
        "def vec_add_vec(v, u):\n",
        "    pass\n",
        "\n",
        "# - mix two vectors using coefficients a=0.4 and b=0.6\n",
        "a = 0.4\n",
        "b = 0.6\n",
        "u = [1,2,3]\n",
        "v = [-1,2,6]\n",
        "m = ???\n",
        "\n",
        "# - function to interpolate between two vectors:\n",
        "def linear_interpolation(u,v,a):\n",
        "    pass\n",
        "\n",
        "# - function to get vector magnitude (length)\n",
        "def vector_magnitude(v):\n",
        "    pass\n",
        "\n",
        "# - function to normalize a vector\n",
        "def vector_normalization(v):\n",
        "    pass\n",
        "    "
      ],
      "execution_count": 0,
      "outputs": []
    },
    {
      "cell_type": "markdown",
      "metadata": {
        "id": "w37hVVOwqGbt",
        "colab_type": "text"
      },
      "source": [
        "Bonus - bilinear interpolation:\n",
        "\n",
        "![bilinear interpolation](https://upload.wikimedia.org/wikipedia/commons/thumb/e/ea/BilinearInterpolation.svg/254px-BilinearInterpolation.svg.png)"
      ]
    },
    {
      "cell_type": "code",
      "metadata": {
        "id": "dnbTQv7jp2yP",
        "colab_type": "code",
        "colab": {}
      },
      "source": [
        "# (bonus) bilinear interpolation\n",
        "\n",
        "x1 = 2.0\n",
        "x2 = 8.0\n",
        "y1 = 1.1\n",
        "y2 = 13.2\n",
        "\n",
        "# get the coordinates of P=?"
      ],
      "execution_count": 0,
      "outputs": []
    }
  ]
}