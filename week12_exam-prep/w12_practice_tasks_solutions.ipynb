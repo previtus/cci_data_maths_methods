{
  "nbformat": 4,
  "nbformat_minor": 0,
  "metadata": {
    "colab": {
      "name": "w12_practice_tasks_solutions.ipynb",
      "provenance": [],
      "collapsed_sections": []
    },
    "kernelspec": {
      "name": "python3",
      "display_name": "Python 3"
    }
  },
  "cells": [
    {
      "cell_type": "markdown",
      "metadata": {
        "id": "B0djxmxDl7WC",
        "colab_type": "text"
      },
      "source": [
        "# Practice tasks:"
      ]
    },
    {
      "cell_type": "markdown",
      "metadata": {
        "id": "hmSAqJiKmGqq",
        "colab_type": "text"
      },
      "source": [
        "0. **Starter, file types**"
      ]
    },
    {
      "cell_type": "code",
      "metadata": {
        "id": "xrcNS580l4UH",
        "colab_type": "code",
        "outputId": "45cd0f84-247e-4e7b-e38c-f5b68ff887a1",
        "colab": {
          "base_uri": "https://localhost:8080/",
          "height": 51
        }
      },
      "source": [
        "# file types conversions\n",
        "# - Check if we would loose precision after converting types of a variable?\n",
        "\n",
        "original_1 = int(12) # convert to float and answer\n",
        "converted_1 = float(original_1)\n",
        "if (original_1 - converted_1) == 0.0:\n",
        "    print(\"no loss\")\n",
        "else:\n",
        "    print(\"loss of precision\")\n",
        "\n",
        "original_2 = float(12.123) # convert to int and answer\n",
        "converted_2 = int(original_2)\n",
        "#print(original_2 - converted_2)\n",
        "if (original_2 - converted_2) == 0.0:\n",
        "    print(\"no loss\")\n",
        "else:\n",
        "    print(\"loss of precision\")"
      ],
      "execution_count": 0,
      "outputs": [
        {
          "output_type": "stream",
          "text": [
            "no loss\n",
            "loss of precision\n"
          ],
          "name": "stdout"
        }
      ]
    },
    {
      "cell_type": "markdown",
      "metadata": {
        "id": "FRyEW2xTmwnR",
        "colab_type": "text"
      },
      "source": [
        "1. **Functions**"
      ]
    },
    {
      "cell_type": "code",
      "metadata": {
        "id": "i134V32rl7EN",
        "colab_type": "code",
        "outputId": "614e22b0-6238-421c-e0e7-9a8b737baac2",
        "colab": {
          "base_uri": "https://localhost:8080/",
          "height": 51
        }
      },
      "source": [
        "# linear function\n",
        "# - write a function which would evaluate the linear function formula f(x): a*x + b\n",
        "\n",
        "def linear_function_value(x,a,b):\n",
        "    y = a*x + b\n",
        "    return y\n",
        "\n",
        "# quadratic function\n",
        "# - write a function which would evaluate the quadratic function formula f(x): a*x^2 + b*x + c\n",
        "def quadratic_function_value(x,a,b,c):\n",
        "    y = a*x*x + b*x + c\n",
        "    return y\n",
        "\n",
        "# call them both to show their functioning\n",
        "x = 0\n",
        "a = 1\n",
        "b = 2\n",
        "y = linear_function_value(x,a,b)\n",
        "print(y)\n",
        "\n",
        "x = 2\n",
        "a = -1\n",
        "b = 2\n",
        "c = 3\n",
        "y = quadratic_function_value(x,a,b,c)\n",
        "print(y)\n",
        "\n",
        "for x in range(0,100):\n",
        "   y = quadratic_function_value(x,a,b,c)\n",
        "   # plotpoint(x,y)"
      ],
      "execution_count": 0,
      "outputs": [
        {
          "output_type": "stream",
          "text": [
            "2\n",
            "3\n"
          ],
          "name": "stdout"
        }
      ]
    },
    {
      "cell_type": "markdown",
      "metadata": {
        "id": "IIEvgd50nGtA",
        "colab_type": "text"
      },
      "source": [
        "3. **Prime numbers**"
      ]
    },
    {
      "cell_type": "code",
      "metadata": {
        "id": "V7rsRpFanKQ5",
        "colab_type": "code",
        "outputId": "81b0c904-89a7-4328-9a79-b95f42701e6f",
        "colab": {
          "base_uri": "https://localhost:8080/",
          "height": 119
        }
      },
      "source": [
        "# check if a number is divisible by another number without a remainder\n",
        "\n",
        "number = 10\n",
        "divide_by = 3\n",
        "\n",
        "remainder_after_divison = number % divide_by\n",
        "print(remainder_after_divison)\n",
        "\n",
        "print(\"---\")\n",
        "\n",
        "remainder_after_divison = number\n",
        "while remainder_after_divison > divide_by:\n",
        "    remainder_after_divison = remainder_after_divison - divide_by\n",
        "    print(remainder_after_divison)\n",
        "print(remainder_after_divison)"
      ],
      "execution_count": 0,
      "outputs": [
        {
          "output_type": "stream",
          "text": [
            "1\n",
            "---\n",
            "7\n",
            "4\n",
            "1\n",
            "1\n"
          ],
          "name": "stdout"
        }
      ]
    },
    {
      "cell_type": "code",
      "metadata": {
        "id": "tqmTqQUhnsA_",
        "colab_type": "code",
        "outputId": "394311ea-a63f-44cf-a553-a4a56f069390",
        "colab": {
          "base_uri": "https://localhost:8080/",
          "height": 34
        }
      },
      "source": [
        "# check if a number is prime?\n",
        "\n",
        "number = 13\n",
        "is_prime = True # use whatever method\n",
        "\n",
        "for i in range(2,number):\n",
        "    remainder = number%i\n",
        "    if remainder == 0.0:\n",
        "        print(number,\"divided by\",i,\" has modulo 0.0\")\n",
        "        is_prime = False\n",
        "        break\n",
        "\n",
        "print(\"Is prime:\", is_prime)"
      ],
      "execution_count": 0,
      "outputs": [
        {
          "output_type": "stream",
          "text": [
            "Is prime: True\n"
          ],
          "name": "stdout"
        }
      ]
    },
    {
      "cell_type": "markdown",
      "metadata": {
        "id": "-wrEG-RroB5p",
        "colab_type": "text"
      },
      "source": [
        "6. **Statistics**\n",
        "\n",
        "Average formula:\n",
        "\n",
        "> ![AVG](https://www.gstatic.com/education/formulas/images_long_sheet/en/mean.svg)\n",
        "\n",
        "\n",
        "\n",
        "\n",
        "Standard deviation formula:\n",
        "\n",
        ">  ![STD](https://www.gstatic.com/education/formulas/images_long_sheet/en/population_standard_deviation.svg)"
      ]
    },
    {
      "cell_type": "code",
      "metadata": {
        "id": "zPrqPwkGnz6X",
        "colab_type": "code",
        "outputId": "22160ae3-d714-4183-ca18-6e947349643d",
        "colab": {
          "base_uri": "https://localhost:8080/",
          "height": 85
        }
      },
      "source": [
        "# - write down the formula for average from a list as a code\n",
        "import math\n",
        "\n",
        "def average(l):\n",
        "    s = 0.0\n",
        "    for item in l:\n",
        "      s = s+item\n",
        "    \n",
        "    N = float(len(l))\n",
        "    print(s,N)\n",
        "\n",
        "    return s / N\n",
        "\n",
        "l = [1,3,3,2,1]\n",
        "avg = average(l)\n",
        "print(\"avg=\",avg)\n",
        "\n",
        "# - write down the formula for standard deviation from a list as a code\n",
        "#   (N-1 instead of N) https://www.graphpad.com/support/faqid/1383/\n",
        "def std(l):\n",
        "    avg = average(l)\n",
        "    accum = 0.0\n",
        "\n",
        "    for item in l:\n",
        "        accum += (item - avg) * (item - avg)\n",
        "\n",
        "    N = float(len(l))\n",
        "    std = math.sqrt( accum / (N-1) )\n",
        "    return std\n",
        "\n",
        "\n",
        "l = [1,3,3,2,1]\n",
        "s = std(l)\n",
        "print(\"std=\",s)\n",
        "\n",
        "## ======\n",
        "#import statistics \n",
        "#print(statistics.stdev(l))"
      ],
      "execution_count": 0,
      "outputs": [
        {
          "output_type": "stream",
          "text": [
            "10.0 5.0\n",
            "avg= 2.0\n",
            "10.0 5.0\n",
            "std= 1.0\n"
          ],
          "name": "stdout"
        }
      ]
    },
    {
      "cell_type": "markdown",
      "metadata": {
        "id": "x-eczzUSo1YP",
        "colab_type": "text"
      },
      "source": [
        "9. **Vector operations**\n"
      ]
    },
    {
      "cell_type": "code",
      "metadata": {
        "id": "u8s1VFsXo_qO",
        "colab_type": "code",
        "outputId": "8154a353-b5e2-4305-a7f3-0715b27fabbe",
        "colab": {
          "base_uri": "https://localhost:8080/",
          "height": 51
        }
      },
      "source": [
        "# Implement some of the vector operations we discussed in class\n",
        "# - vector multiplied by real number\n",
        "import numpy as np\n",
        "\n",
        "v = [1.0,2.1,4.0]\n",
        "v = np.asarray(v)\n",
        "a = 2.0\n",
        "\n",
        "def vec_mult_real(v, a):\n",
        "    return a*v\n",
        "\n",
        "test = vec_mult_real(v, a)\n",
        "print(v,\"times\",a,\"is:\")\n",
        "print(test)"
      ],
      "execution_count": 0,
      "outputs": [
        {
          "output_type": "stream",
          "text": [
            "[1.  2.1 4. ] times 2.0 is:\n",
            "[2.  4.2 8. ]\n"
          ],
          "name": "stdout"
        }
      ]
    },
    {
      "cell_type": "code",
      "metadata": {
        "id": "VhMovvFLCDZi",
        "colab_type": "code",
        "outputId": "9bb3c4d4-d437-4ba7-f863-a26f16b81908",
        "colab": {
          "base_uri": "https://localhost:8080/",
          "height": 34
        }
      },
      "source": [
        "v = [1.0,2.1,4.0]\n",
        "v = np.asarray(v)\n",
        "\n",
        "u = [-1.0,0.0,1.0]\n",
        "u = np.asarray(u)\n",
        "\n",
        "# - vector added to another vector\n",
        "def vec_add_vec(v, u):\n",
        "    return u + v\n",
        "\n",
        "print(vec_add_vec(v, u))"
      ],
      "execution_count": 0,
      "outputs": [
        {
          "output_type": "stream",
          "text": [
            "[0.  2.1 5. ]\n"
          ],
          "name": "stdout"
        }
      ]
    },
    {
      "cell_type": "code",
      "metadata": {
        "id": "Zs8zuV4ZCa8G",
        "colab_type": "code",
        "outputId": "fb64d428-cdbe-45b4-a7be-45eb62a5e296",
        "colab": {
          "base_uri": "https://localhost:8080/",
          "height": 34
        }
      },
      "source": [
        "# - mix two vectors using coefficients a=0.4 and b=0.6\n",
        "a = 0.4\n",
        "b = 0.6\n",
        "u = [1,2,3]\n",
        "u = np.asarray(u)\n",
        "v = [-1,2,6]\n",
        "v = np.asarray(v)\n",
        "\n",
        "m = a * u + b * v\n",
        "print(m)"
      ],
      "execution_count": 0,
      "outputs": [
        {
          "output_type": "stream",
          "text": [
            "[-0.2  2.   4.8]\n"
          ],
          "name": "stdout"
        }
      ]
    },
    {
      "cell_type": "code",
      "metadata": {
        "id": "rzILWHKrCn0n",
        "colab_type": "code",
        "outputId": "e63ab29a-fc4e-4e53-ac18-2dcd0307e92f",
        "colab": {
          "base_uri": "https://localhost:8080/",
          "height": 34
        }
      },
      "source": [
        "# - function to interpolate between two vectors:\n",
        "def linear_interpolation(u,v,a):\n",
        "    return a*u + (1-a)*v\n",
        "\n",
        "u = [1,2,3]\n",
        "u = np.asarray(u)\n",
        "v = [-1,2,6]\n",
        "v = np.asarray(v)\n",
        "a = 0.9\n",
        "print(linear_interpolation(u,v,a))"
      ],
      "execution_count": 0,
      "outputs": [
        {
          "output_type": "stream",
          "text": [
            "[0.8 2.  3.3]\n"
          ],
          "name": "stdout"
        }
      ]
    },
    {
      "cell_type": "code",
      "metadata": {
        "id": "Cb05XVDkC5_D",
        "colab_type": "code",
        "outputId": "a9dd548e-1286-48f9-e1cd-9b781d015d80",
        "colab": {
          "base_uri": "https://localhost:8080/",
          "height": 68
        }
      },
      "source": [
        "# - function to get vector magnitude (length)\n",
        "import math\n",
        "def vector_magnitude(v):\n",
        "    accum = 0.0\n",
        "    for item in v:\n",
        "        accum += item*item\n",
        "    return math.sqrt(accum)\n",
        "\n",
        "v = [-1,2,6]\n",
        "v = np.asarray(v)\n",
        "print(\"lenght:\", vector_magnitude(v))\n",
        "\n",
        "# - function to normalize a vector\n",
        "def vector_normalization(v):\n",
        "    length = vector_magnitude(v)\n",
        "    return v / length\n",
        "\n",
        "n = vector_normalization(v)\n",
        "print(\"normalized vector:\", n)\n",
        "\n",
        "print(\"lenght of normalized vec:\", vector_magnitude(n))"
      ],
      "execution_count": 0,
      "outputs": [
        {
          "output_type": "stream",
          "text": [
            "lenght: 6.4031242374328485\n",
            "normalized vector: [-0.15617376  0.31234752  0.93704257]\n",
            "lenght of normalized vec: 1.0\n"
          ],
          "name": "stdout"
        }
      ]
    },
    {
      "cell_type": "markdown",
      "metadata": {
        "id": "w37hVVOwqGbt",
        "colab_type": "text"
      },
      "source": [
        "Bonus - bilinear interpolation:\n",
        "\n",
        "![bilinear interpolation](https://upload.wikimedia.org/wikipedia/commons/thumb/e/ea/BilinearInterpolation.svg/254px-BilinearInterpolation.svg.png)\n",
        "\n",
        "Check it on Geogebra: https://www.geogebra.org/m/CTn3QkH9"
      ]
    },
    {
      "cell_type": "code",
      "metadata": {
        "id": "dnbTQv7jp2yP",
        "colab_type": "code",
        "outputId": "9247e4f2-0641-4104-be24-805e9d90f250",
        "colab": {
          "base_uri": "https://localhost:8080/",
          "height": 34
        }
      },
      "source": [
        "# (bonus) bilinear interpolation\n",
        "\n",
        "x1 = 2.0\n",
        "x2 = 8.0\n",
        "y1 = 1.1\n",
        "y2 = 13.2\n",
        "\n",
        "# get the coordinates of P=?\n",
        "Q12 = [x1, y2]\n",
        "Q12 = np.asarray(Q12)\n",
        "Q22 = [x2, y2]\n",
        "Q22 = np.asarray(Q22)\n",
        "Q11 = [x1, y1]\n",
        "Q11 = np.asarray(Q11)\n",
        "Q21 = [x2, y1]\n",
        "Q21 = np.asarray(Q21)\n",
        "\n",
        "u = 0.0\n",
        "v = 0.0\n",
        "\n",
        "# R1 as lin. interpol. between Q11 and Q21\n",
        "R1 = linear_interpolation(Q11,Q21,u)\n",
        "#print(R1)\n",
        "R2 = linear_interpolation(Q12,Q22,u)\n",
        "#print(R2)\n",
        "\n",
        "# point P as a lin. interpol. between R1 and R2\n",
        "P = linear_interpolation(R1,R2,v)\n",
        "\n",
        "print(\"P=\",P)"
      ],
      "execution_count": 0,
      "outputs": [
        {
          "output_type": "stream",
          "text": [
            "P= [ 8.  13.2]\n"
          ],
          "name": "stdout"
        }
      ]
    }
  ]
}